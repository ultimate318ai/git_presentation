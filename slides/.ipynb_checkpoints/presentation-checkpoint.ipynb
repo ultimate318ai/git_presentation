{
 "cells": [
  {
   "cell_type": "markdown",
   "id": "e50aff96-6459-4b8f-8b79-4b66eccf03a4",
   "metadata": {
    "editable": true,
    "slideshow": {
     "slide_type": "slide"
    },
    "tags": []
   },
   "source": [
    "# Git Presentation"
   ]
  },
  {
   "cell_type": "markdown",
   "id": "b69a7f36-48e1-47f9-b86b-6131e2d96f4d",
   "metadata": {
    "editable": true,
    "slideshow": {
     "slide_type": "slide"
    },
    "tags": []
   },
   "source": [
    "## Sommaire\n",
    "\n",
    "\n",
    "  1) Test\n",
    "  2) Testbis\n",
    "  3) on verra"
   ]
  },
  {
   "cell_type": "markdown",
   "id": "5a3ea240-20ad-4f4d-939c-a0e7aeeae1c3",
   "metadata": {
    "editable": true,
    "slideshow": {
     "slide_type": "slide"
    },
    "tags": []
   },
   "source": [
    "## Introduction"
   ]
  },
  {
   "cell_type": "markdown",
   "id": "c820b688-7bd3-4a93-b174-9bed4cc0a493",
   "metadata": {
    "editable": true,
    "slideshow": {
     "slide_type": ""
    },
    "tags": []
   },
   "source": [
    "<span style='text-align:justified; color: red;'>Un gestionnaire de\n",
    "version est un système qui enregistre l’évolution d’un fichier ou d’un ensemble de fichiers au cours\n",
    "du temps de manière à ce qu’on puisse rappeler une version antérieure d’un fichier à tout moment. </span>"
   ]
  },
  {
   "cell_type": "markdown",
   "id": "94314bc6-82e0-4fbd-a8a5-038896d8ebb2",
   "metadata": {
    "editable": true,
    "slideshow": {
     "slide_type": "subslide"
    },
    "tags": []
   },
   "source": [
    "<img src=\"../pictures/introduction.png\" alt=\"Image d'introduction\">"
   ]
  },
  {
   "cell_type": "markdown",
   "id": "98d8f433-82e7-4868-92de-b5b613c92636",
   "metadata": {
    "editable": true,
    "slideshow": {
     "slide_type": "subslide"
    },
    "tags": []
   },
   "source": [
    "### Les systèmes de gestion de version locaux (1/X)\n",
    "---------------------------------------------"
   ]
  },
  {
   "cell_type": "markdown",
   "id": "6c3d477a-8f28-475a-afd5-9fe7875dad0c",
   "metadata": {
    "editable": true,
    "slideshow": {
     "slide_type": "fragment"
    },
    "tags": []
   },
   "source": [
    "<div class=\"row\" style=\"display:flex;justify-content: center; border: 3px solid #08182F; border-radius: 50px;margin-left: 10px; margin-right:10px\">\n",
    "  <div class=\"column\" style=\"margin-left:30px\">\n",
    "    <img width=500px height=400px src=\"../pictures/version-ppt.png\" alt=\"Image gestion de version locale1\">\n",
    "  </div>\n",
    "  <div class=\"column\"  style=\"margin-left:70px\">\n",
    "    <img width=500px height=400px src=\"../pictures/local-computer.png\" alt=\"Image gestion de version locale2\">\n",
    "  </div>\n",
    "</div> "
   ]
  },
  {
   "cell_type": "markdown",
   "id": "1a718cd2-3b57-4487-a772-3fda13dc5cc3",
   "metadata": {
    "editable": true,
    "slideshow": {
     "slide_type": "subslide"
    },
    "tags": []
   },
   "source": [
    "### Les systèmes de gestion de version locaux (2/X)\n",
    "---------------------------------------------\n",
    "Un des systèmes les plus populaires était [RCS](https://www.gnu.org/software/rcs/), qui est encore distribué avec de nombreux systèmes\n",
    "d’exploitation aujourd’hui.\n",
    "\n",
    "Cet outil fonctionne en conservant des ensembles de patchs\n",
    "```diff\n",
    "diff --git a/foo.c b/foo.c\n",
    "index 30cfd169..8de130c2 100644\n",
    "--- a/foo.c\n",
    "+++ b/foo.c\n",
    "@@ -1,5 +1,5 @@\n",
    " #include <string.h>\n",
    "\n",
    " int check (char *string) {\n",
    "-    return !strcmp(string, \"ok\");\n",
    "+    return (string != NULL) && !strcmp(string, \"ok\");\n",
    "}\n",
    "```\n",
    "Un patch est une representation compacte de différences entres deux fichiers. Cela décrit comment effectuer une tranformation afin de passer d'un fichier à un autre.\n"
   ]
  },
  {
   "cell_type": "markdown",
   "id": "639ac4b6-c887-4cd8-8814-241621f8e825",
   "metadata": {
    "editable": true,
    "slideshow": {
     "slide_type": "fragment"
    },
    "tags": []
   },
   "source": [
    "- _diff --git a/foo.c b/foo.c_ represente les changements entre l'index et la version dans l'arbre de travail."
   ]
  },
  {
   "cell_type": "markdown",
   "id": "5c9295e5-7a02-4fca-967b-692cbf2bbb5f",
   "metadata": {
    "editable": true,
    "slideshow": {
     "slide_type": "fragment"
    },
    "tags": []
   },
   "source": [
    "- `index 30cfd169..8de130c2 100644` represente le header. Dans notre contexte cela montre plus de détails sur notemment d'où proviennent les deux \"version\" de ce même fichier ainsi que son type (fichier dit régulier, executable ou non, lien symbolique...)"
   ]
  },
  {
   "cell_type": "markdown",
   "id": "2797ea6e-5a7f-4cbc-95bb-dc81bc457b69",
   "metadata": {
    "editable": true,
    "slideshow": {
     "slide_type": "subslide"
    },
    "tags": []
   },
   "source": [
    "### Les systèmes de gestion de version locaux (3/X)\n",
    "---------------------------------------------\n",
    "\n",
    "<ul style=\"list-style: none;\"> \n",
    "    <li><span style=\"color: green\">+ On il peut restituer l’état de n’importe quel fichier à n’importe quel instant en ajoutant toutes les\n",
    "différences patch nécéssaires.</span></li>   \n",
    "    <li><span style=\"color: red\">- Cela ne permet pas de gérer plusieurs utilisateurs sur plusieurs machines</span></li>\n",
    "    <li><span style=\"color: red\">- Dépendance totale sur le server local (panne, corruption du disque dur, ...)</span></li>\n",
    "</ul>"
   ]
  },
  {
   "cell_type": "markdown",
   "id": "452388e0-7f05-47fc-bd0f-478fec47bc0f",
   "metadata": {
    "editable": true,
    "jp-MarkdownHeadingCollapsed": true,
    "slideshow": {
     "slide_type": "subslide"
    },
    "tags": []
   },
   "source": [
    "### Les systèmes de gestion de version centralisés (1/X)\n",
    "--------------------------------------------------\n",
    "\n",
    "Les systèmes de gestion de version\n",
    "centralisés mettent en place un serveur central qui contient\n",
    "tous les fichiers sous gestion de version, et des clients qui peuvent extraire les fichiers de ce dépôt\n",
    "central.\n",
    "<div style=\"display:flex;justify-content: center;\">\n",
    "    <img align=\"center\" style=\"border: 3px solid #08182F; border-radius: 50px;margin-left: 10px; margin-right:10px\" width=\"500px\" height=\"500px\" src=\"../pictures/CVCS-server.png\" alt=\"CVCS server\">\n",
    "</div>\n",
    "\n"
   ]
  },
  {
   "cell_type": "markdown",
   "id": "31d990fe-73a7-496a-818e-6077aaba6e96",
   "metadata": {
    "editable": true,
    "slideshow": {
     "slide_type": "fragment"
    },
    "tags": []
   },
   "source": [
    "### Les systèmes de gestion de version distribués (2/X)\n",
    "--------------------------------------------------\n",
    "\n",
    "<ul style=\"list-style: none;\"> \n",
    "    <li><span style=\"color: green\">+ On il peut restituer l’état de n’importe quel fichier à n’importe quel instant.</span></li>   \n",
    "    <li><span style=\"color: green\">+ Cela permet de gérer plusieurs utilisateurs sur plusieurs machines</span></li>\n",
    "    <li><span style=\"color: green\">+ Possibilités d'administration de la base de donnée</span></li>\n",
    "    <li><span style=\"color: red\">- Dépendance totale sur le server distant (panne, lenteur, corruption du disque dur, accès concurrents, ...)</span></li>\n",
    "</ul>"
   ]
  },
  {
   "cell_type": "markdown",
   "id": "f9d52b08-4076-45db-85b7-7413df9b48da",
   "metadata": {
    "editable": true,
    "slideshow": {
     "slide_type": "subslide"
    },
    "tags": []
   },
   "source": [
    "### Les systèmes de gestion de version centralisés (1/X)\n",
    "--------------------------------------------------\n",
    "\n",
    "Les clients n’extraient plus seulement la dernière version d’un fichier, mais ils dupliquent\n",
    "complètement le dépôt.\n",
    "<div style=\"display:flex;justify-content: center;\">\n",
    "    <img align=\"center\" style=\"border: 3px solid #08182F; border-radius: 50px;margin-left: 10px; margin-right:10px\" width=\"500px\" height=\"500px\" src=\"../pictures/DVCS-server.png\" alt=\"DVCS server\">\n",
    "</div>"
   ]
  },
  {
   "cell_type": "markdown",
   "id": "b65f3cdf-0b72-4232-918d-93de2045d5f9",
   "metadata": {
    "editable": true,
    "slideshow": {
     "slide_type": "fragment"
    },
    "tags": []
   },
   "source": [
    "### Les systèmes de gestion de version centralisés (2/X)\n",
    "--------------------------------------------------\n",
    "\n",
    "<ul style=\"list-style: none;\"> \n",
    "    <li><span style=\"color: green\">+ On il peut restituer l’état de n’importe quel fichier à n’importe quel instant.</span></li>   \n",
    "    <li><span style=\"color: green\">+ Cela permet de gérer plusieurs utilisateurs sur plusieurs machines</span></li>\n",
    "    <li><span style=\"color: green\">+ Possibilités d'administration de la base de donnée</span></li>\n",
    "    <li><span style=\"color: red\">+ Résilience totale sur le server distant, en cas de problème, chaque machine locale possède un \"déplicat\" de ce dépot </span></li>\n",
    "</ul>"
   ]
  },
  {
   "cell_type": "markdown",
   "id": "00464b95-3472-4ffc-8d97-c7209c2697a1",
   "metadata": {
    "editable": true,
    "slideshow": {
     "slide_type": "subslide"
    },
    "tags": []
   },
   "source": [
    "### Les systèmes de gestion de version centralisés (3/X)\n",
    "--------------------------------------------------\n",
    "\n",
    "Le noyau Linux est un projet libre de grande envergure. Pour la plus grande partie de sa vie\n",
    "(1991–2002), les modifications étaient transmises sous forme de patchs et d’archives de fichiers. En\n",
    "2002, le projet du noyau Linux commença à utiliser un DVCS propriétaire appelé BitKeeper."
   ]
  },
  {
   "cell_type": "markdown",
   "id": "53d55bf9-89ff-4098-ae8a-36a20e762419",
   "metadata": {
    "editable": true,
    "slideshow": {
     "slide_type": "fragment"
    },
    "tags": []
   },
   "source": [
    "<ul style=\"list-style: none;\"> \n",
    "    <li><span><b>Simple</b>: An easy to use command line interface. </span></li>   \n",
    "    <li><span><b>Scalable</b>: Nested Repositories are submodules done right! Version control collections of repositories.</span></li>\n",
    "    <li><span><b>Accurate</b>: Tracking of file operations like creates, deletes, and renames.</span></li>\n",
    "    <li><span><b>Safe</b>: All file accesses validate checksums for integrity. All file writes include redundancy for error correction.</span></li>\n",
    "    <li><span><b>Dependable</b>: Highly accurate auto-merge that uses the whole history to resolve conflicts. Most other systems use variations of diff3.</span></li>\n",
    "    <li><span><b>Fast</b>: High performance and scales to very large repositories.</span></li>\n",
    "    <li><span><b>Free</b>: Licensed under the Apache Version 2 license </span></li>\n",
    "</ul>"
   ]
  },
  {
   "cell_type": "markdown",
   "id": "265503bd-fc48-4076-b6ee-a3df01a2cc08",
   "metadata": {
    "editable": true,
    "slideshow": {
     "slide_type": "subslide"
    },
    "tags": []
   },
   "source": [
    "### Les systèmes de gestion de version centralisés (4/X)\n",
    "--------------------------------------------------\n",
    "\n",
    "<div style=\"display:flex;justify-content: center;\">\n",
    "    <img align=\"center\" style=\"border: 3px solid #08182F; border-radius: 50px;margin-left: 10px; margin-right:10px\" width=\"500px\" height=\"500px\" src=\"../pictures/bitkeeper.png\" alt=\"bitkeeper\">\n",
    "</div>"
   ]
  },
  {
   "cell_type": "markdown",
   "id": "0f2e9483-c2a7-4207-a054-6229719a6082",
   "metadata": {
    "editable": true,
    "slideshow": {
     "slide_type": "fragment"
    },
    "tags": []
   },
   "source": [
    "> Où arrive git dans tout cela ?"
   ]
  },
  {
   "cell_type": "markdown",
   "id": "04b9d230-6625-40e9-a37f-342ce1c3196f",
   "metadata": {
    "editable": true,
    "slideshow": {
     "slide_type": "subslide"
    },
    "tags": []
   },
   "source": [
    "### Les systèmes de gestion de version centralisés (5/X)\n",
    "--------------------------------------------------\n",
    "\n",
    "\n",
    "En 2005, les relations entre la communauté développant le noyau Linux et la société en charge du\n",
    "développement de BitKeeper furent rompues, et le statut de gratuité de l’outil fut révoqué.\n",
    "\n",
    "Cela poussa la communauté du développement de Linux (et plus particulièrement Linus Torvalds, le\n",
    "créateur de Linux) à développer son propre outil en se basant sur les leçons apprises lors de\n",
    "l’utilisation de BitKeeper:\n",
    "<ul style=\"list-style: none;\"> \n",
    "    <li><span>vitesse</span></li>   \n",
    "    <li><span>conception simple</span></li>\n",
    "    <li><span>support pour les développements non linéaires</li>\n",
    "    <li><span>capacité à gérer efficacement des projets d’envergure tels que le noyau Linux</span></li>\n",
    "</ul>"
   ]
  }
 ],
 "metadata": {
  "celltoolbar": "Diaporama",
  "kernelspec": {
   "display_name": "Python 3 (ipykernel)",
   "language": "python",
   "name": "python3"
  },
  "language_info": {
   "codemirror_mode": {
    "name": "ipython",
    "version": 3
   },
   "file_extension": ".py",
   "mimetype": "text/x-python",
   "name": "python",
   "nbconvert_exporter": "python",
   "pygments_lexer": "ipython3",
   "version": "3.13.7"
  },
  "toc": {
   "base_numbering": 1
  }
 },
 "nbformat": 4,
 "nbformat_minor": 5
}
