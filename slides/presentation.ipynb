{
 "cells": [
  {
   "cell_type": "markdown",
   "id": "e50aff96-6459-4b8f-8b79-4b66eccf03a4",
   "metadata": {
    "editable": true,
    "slideshow": {
     "slide_type": "slide"
    },
    "tags": []
   },
   "source": [
    "# Git Presentation"
   ]
  },
  {
   "cell_type": "markdown",
   "id": "b69a7f36-48e1-47f9-b86b-6131e2d96f4d",
   "metadata": {
    "editable": true,
    "slideshow": {
     "slide_type": "slide"
    },
    "tags": []
   },
   "source": [
    "## Sommaire\n",
    "\n",
    "\n",
    "  1) Test\n",
    "  2) Testbis\n",
    "  3) on verra"
   ]
  }
 ],
 "metadata": {
  "celltoolbar": "Diaporama",
  "kernelspec": {
   "display_name": "Python 3 (ipykernel)",
   "language": "python",
   "name": "python3"
  },
  "language_info": {
   "codemirror_mode": {
    "name": "ipython",
    "version": 3
   },
   "file_extension": ".py",
   "mimetype": "text/x-python",
   "name": "python",
   "nbconvert_exporter": "python",
   "pygments_lexer": "ipython3",
   "version": "3.13.7"
  }
 },
 "nbformat": 4,
 "nbformat_minor": 5
}
