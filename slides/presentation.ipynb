{
 "cells": [
  {
   "cell_type": "markdown",
   "id": "e50aff96-6459-4b8f-8b79-4b66eccf03a4",
   "metadata": {
    "editable": true,
    "slideshow": {
     "slide_type": "subslide"
    },
    "tags": []
   },
   "source": [
    "# Git Presentation"
   ]
  },
  {
   "cell_type": "markdown",
   "id": "b69a7f36-48e1-47f9-b86b-6131e2d96f4d",
   "metadata": {
    "editable": true,
    "jp-MarkdownHeadingCollapsed": true,
    "slideshow": {
     "slide_type": "slide"
    },
    "tags": []
   },
   "source": [
    "## Sommaire\n",
    "\n",
    "\n",
    "  1) Test\n",
    "  2) Testbis\n",
    "  3) on verra\n",
    "\n",
    "\n",
    "TODO:\n",
    "* Fix la taille des images\n",
    "* Attention à la taille du contenue d'une slide\n",
    "* Finaliser sommaire\n",
    "* slide de fin + conclusion\n"
   ]
  },
  {
   "cell_type": "markdown",
   "id": "fc352d68",
   "metadata": {
    "jp-MarkdownHeadingCollapsed": true
   },
   "source": [
    "## Introduction"
   ]
  },
  {
   "cell_type": "markdown",
   "id": "c820b688-7bd3-4a93-b174-9bed4cc0a493",
   "metadata": {
    "editable": true,
    "slideshow": {
     "slide_type": ""
    },
    "tags": []
   },
   "source": [
    "<span style='text-align:justified; color: red;'>Un gestionnaire de\n",
    "version est un système qui enregistre l’évolution d’un fichier ou d’un ensemble de fichiers au cours\n",
    "du temps de manière à ce qu’on puisse rappeler une version antérieure d’un fichier à tout moment. </span>"
   ]
  },
  {
   "cell_type": "markdown",
   "id": "94314bc6-82e0-4fbd-a8a5-038896d8ebb2",
   "metadata": {
    "editable": true,
    "slideshow": {
     "slide_type": "subslide"
    },
    "tags": []
   },
   "source": [
    "<div style=\"display:flex\">\n",
    "    <img style=\"border: 3px solid #08182F; border-radius: 50px; margin: auto\" width=700px height=700px src=\"pictures/introduction.png\" alt=\"Image d'introduction\">\n",
    "</div>"
   ]
  },
  {
   "cell_type": "markdown",
   "id": "98d8f433-82e7-4868-92de-b5b613c92636",
   "metadata": {
    "editable": true,
    "slideshow": {
     "slide_type": "subslide"
    },
    "tags": []
   },
   "source": [
    "### Les systèmes de gestion de version locaux (1/X)\n",
    "---------------------------------------------"
   ]
  },
  {
   "cell_type": "markdown",
   "id": "6c3d477a-8f28-475a-afd5-9fe7875dad0c",
   "metadata": {
    "editable": true,
    "slideshow": {
     "slide_type": "fragment"
    },
    "tags": []
   },
   "source": [
    "<div class=\"row\" style=\"display:flex;justify-content: center; border: 3px solid #08182F; border-radius: 50px;margin-left: 10px; margin-right:10px\">\n",
    "  <div class=\"column\" style=\"margin-left:30px\">\n",
    "    <img width=500px height=400px src=\"/pictures/version-ppt.png\" alt=\"Image gestion de version locale1\">\n",
    "  </div>\n",
    "  <div class=\"column\"  style=\"margin-left:70px\">\n",
    "    <img width=500px height=400px src=\"/pictures/local-computer.png\" alt=\"Image gestion de version locale2\">\n",
    "  </div>\n",
    "</div> "
   ]
  },
  {
   "cell_type": "markdown",
   "id": "1a718cd2-3b57-4487-a772-3fda13dc5cc3",
   "metadata": {
    "editable": true,
    "jp-MarkdownHeadingCollapsed": true,
    "slideshow": {
     "slide_type": "subslide"
    },
    "tags": []
   },
   "source": [
    "### Les systèmes de gestion de version locaux (2/X)\n",
    "---------------------------------------------\n",
    "Un des systèmes les plus populaires était [RCS](https://www.gnu.org/software/rcs/), qui est encore distribué avec de nombreux systèmes\n",
    "d’exploitation aujourd’hui.\n",
    "\n",
    "Cet outil fonctionne en conservant des ensembles de patchs\n",
    "```diff\n",
    "diff --git a/foo.c b/foo.c\n",
    "index 30cfd169..8de130c2 100644\n",
    "--- a/foo.c\n",
    "+++ b/foo.c\n",
    "@@ -1,5 +1,5 @@\n",
    " #include <string.h>\n",
    "\n",
    " int check (char *string) {\n",
    "-    return !strcmp(string, \"ok\");\n",
    "+    return (string != NULL) && !strcmp(string, \"ok\");\n",
    "}\n",
    "```\n",
    "Un patch est une representation compacte de différences entres deux fichiers. Cela décrit comment effectuer une tranformation afin de passer d'un fichier à un autre.\n"
   ]
  },
  {
   "cell_type": "markdown",
   "id": "639ac4b6-c887-4cd8-8814-241621f8e825",
   "metadata": {
    "editable": true,
    "slideshow": {
     "slide_type": "fragment"
    },
    "tags": []
   },
   "source": [
    "- _diff --git a/foo.c b/foo.c_ represente les changements entre l'index et la version dans l'arbre de travail."
   ]
  },
  {
   "cell_type": "markdown",
   "id": "5c9295e5-7a02-4fca-967b-692cbf2bbb5f",
   "metadata": {
    "editable": true,
    "slideshow": {
     "slide_type": "fragment"
    },
    "tags": []
   },
   "source": [
    "- `index 30cfd169..8de130c2 100644` represente le header. Dans notre contexte cela montre plus de détails sur notemment d'où proviennent les deux \"version\" de ce même fichier ainsi que son type (fichier dit régulier, executable ou non, lien symbolique...)"
   ]
  },
  {
   "cell_type": "markdown",
   "id": "2797ea6e-5a7f-4cbc-95bb-dc81bc457b69",
   "metadata": {
    "editable": true,
    "jp-MarkdownHeadingCollapsed": true,
    "slideshow": {
     "slide_type": "subslide"
    },
    "tags": []
   },
   "source": [
    "### Les systèmes de gestion de version locaux (3/X)\n",
    "---------------------------------------------\n",
    "\n",
    "<ul style=\"list-style: none;\"> \n",
    "    <li><span style=\"color: green\">+ On il peut restituer l’état de n’importe quel fichier à n’importe quel instant en ajoutant toutes les\n",
    "différences patch nécéssaires.</span></li>   \n",
    "    <li><span style=\"color: red\">- Cela ne permet pas de gérer plusieurs utilisateurs sur plusieurs machines</span></li>\n",
    "    <li><span style=\"color: red\">- Dépendance totale sur le server local (panne, corruption du disque dur, ...)</span></li>\n",
    "</ul>"
   ]
  },
  {
   "cell_type": "markdown",
   "id": "452388e0-7f05-47fc-bd0f-478fec47bc0f",
   "metadata": {
    "editable": true,
    "jp-MarkdownHeadingCollapsed": true,
    "slideshow": {
     "slide_type": "subslide"
    },
    "tags": []
   },
   "source": [
    "### Les systèmes de gestion de version distribués (1/X)\n",
    "--------------------------------------------------\n",
    "\n",
    "Les systèmes de gestion de version\n",
    "centralisés mettent en place un serveur central qui contient\n",
    "tous les fichiers sous gestion de version, et des clients qui peuvent extraire les fichiers de ce dépôt\n",
    "central.\n",
    "<div style=\"display:flex;\">\n",
    "    <img style=\"border: 3px solid #08182F; border-radius: 50px; margin: auto\" width=500px height=500px src=\"pictures/CVCS-server.png\" alt=\"CVCS server\">\n",
    "</div>\n",
    "\n"
   ]
  },
  {
   "cell_type": "markdown",
   "id": "31d990fe-73a7-496a-818e-6077aaba6e96",
   "metadata": {
    "editable": true,
    "slideshow": {
     "slide_type": "subslide"
    },
    "tags": []
   },
   "source": [
    "### Les systèmes de gestion de version distribués (2/X)\n",
    "--------------------------------------------------\n",
    "\n",
    "<ul style=\"list-style: none;\"> \n",
    "    <li><span style=\"color: green\">+ On il peut restituer l’état de n’importe quel fichier à n’importe quel instant.</span></li>   \n",
    "    <li><span style=\"color: green\">+ Cela permet de gérer plusieurs utilisateurs sur plusieurs machines</span></li>\n",
    "    <li><span style=\"color: green\">+ Possibilités d'administration de la base de donnée</span></li>\n",
    "    <li><span style=\"color: red\">- Dépendance totale sur le server distant (panne, lenteur, corruption du disque dur, accès concurrents, ...)</span></li>\n",
    "</ul>"
   ]
  },
  {
   "cell_type": "markdown",
   "id": "f9d52b08-4076-45db-85b7-7413df9b48da",
   "metadata": {
    "editable": true,
    "slideshow": {
     "slide_type": "subslide"
    },
    "tags": []
   },
   "source": [
    "### Les systèmes de gestion de version centralisés (1/X)\n",
    "--------------------------------------------------\n",
    "\n",
    "Les clients n’extraient plus seulement la dernière version d’un fichier, mais ils dupliquent\n",
    "complètement le dépôt.\n",
    "<div style=\"display:flex\">\n",
    "    <img style=\"border: 3px solid #08182F; border-radius: 50px; margin: auto\" width=500px height=500px src=\"pictures/DVCS-server.png\" alt=\"DVCS server\">\n",
    "</div>"
   ]
  },
  {
   "cell_type": "markdown",
   "id": "b65f3cdf-0b72-4232-918d-93de2045d5f9",
   "metadata": {
    "editable": true,
    "slideshow": {
     "slide_type": "subslide"
    },
    "tags": []
   },
   "source": [
    "### Les systèmes de gestion de version centralisés (2/X)\n",
    "--------------------------------------------------\n",
    "\n",
    "<ul style=\"list-style: none;\"> \n",
    "    <li><span style=\"color: green\">+ On il peut restituer l’état de n’importe quel fichier à n’importe quel instant.</span></li>   \n",
    "    <li><span style=\"color: green\">+ Cela permet de gérer plusieurs utilisateurs sur plusieurs machines</span></li>\n",
    "    <li><span style=\"color: green\">+ Possibilités d'administration de la base de donnée</span></li>\n",
    "    <li><span style=\"color: green\">+ Résilience totale sur le server distant, en cas de problème, chaque machine locale possède un \"déplicat\" de ce dépot </span></li>\n",
    "</ul>"
   ]
  },
  {
   "cell_type": "markdown",
   "id": "00464b95-3472-4ffc-8d97-c7209c2697a1",
   "metadata": {
    "editable": true,
    "slideshow": {
     "slide_type": "subslide"
    },
    "tags": []
   },
   "source": [
    "### Les systèmes de gestion de version centralisés (3/X)\n",
    "--------------------------------------------------\n",
    "\n",
    "Le noyau Linux est un projet libre de grande envergure. Pour la plus grande partie de sa vie\n",
    "(1991–2002), les modifications étaient transmises sous forme de patchs et d’archives de fichiers. En\n",
    "2002, le projet du noyau Linux commença à utiliser un DVCS propriétaire appelé BitKeeper."
   ]
  },
  {
   "cell_type": "markdown",
   "id": "53d55bf9-89ff-4098-ae8a-36a20e762419",
   "metadata": {
    "editable": true,
    "slideshow": {
     "slide_type": "fragment"
    },
    "tags": []
   },
   "source": [
    "<ul style=\"list-style: none;\"> \n",
    "    <li><span><b>Simple</b>: An easy to use command line interface. </span></li>   \n",
    "    <li><span><b>Scalable</b>: Nested Repositories are submodules done right! Version control collections of repositories.</span></li>\n",
    "    <li><span><b>Accurate</b>: Tracking of file operations like creates, deletes, and renames.</span></li>\n",
    "    <li><span><b>Safe</b>: All file accesses validate checksums for integrity. All file writes include redundancy for error correction.</span></li>\n",
    "    <li><span><b>Dependable</b>: Highly accurate auto-merge that uses the whole history to resolve conflicts. Most other systems use variations of diff3.</span></li>\n",
    "    <li><span><b>Fast</b>: High performance and scales to very large repositories.</span></li>\n",
    "    <li><span><b>Free</b>: Licensed under the Apache Version 2 license </span></li>\n",
    "</ul>"
   ]
  },
  {
   "cell_type": "markdown",
   "id": "265503bd-fc48-4076-b6ee-a3df01a2cc08",
   "metadata": {
    "editable": true,
    "slideshow": {
     "slide_type": "subslide"
    },
    "tags": []
   },
   "source": [
    "### Les systèmes de gestion de version centralisés (4/X)\n",
    "--------------------------------------------------\n",
    "\n",
    "<div style=\"display:flex\">\n",
    "    <img style=\"border: 3px solid #08182F; border-radius: 50px; padding-left:5px; margin: auto\"; width=500px height=500px src=\"pictures/bitkeeper.png\" alt=\"bitkeeper\">\n",
    "</div>"
   ]
  },
  {
   "cell_type": "markdown",
   "id": "0f2e9483-c2a7-4207-a054-6229719a6082",
   "metadata": {
    "editable": true,
    "slideshow": {
     "slide_type": "fragment"
    },
    "tags": []
   },
   "source": [
    "> Où arrive git dans tout cela ?"
   ]
  },
  {
   "cell_type": "markdown",
   "id": "04b9d230-6625-40e9-a37f-342ce1c3196f",
   "metadata": {
    "editable": true,
    "slideshow": {
     "slide_type": "subslide"
    },
    "tags": []
   },
   "source": [
    "### Les systèmes de gestion de version centralisés (5/X)\n",
    "--------------------------------------------------\n",
    "\n",
    "\n",
    "En 2005, les relations entre la communauté développant le noyau Linux et la société en charge du\n",
    "développement de BitKeeper furent rompues, et le statut de gratuité de l’outil fut révoqué.\n",
    "\n",
    "Cela poussa la communauté du développement de Linux (et plus particulièrement Linus Torvalds, le\n",
    "créateur de Linux) à développer son propre outil en se basant sur les leçons apprises lors de\n",
    "l’utilisation de BitKeeper:\n",
    "<ul> \n",
    "    <li><span>vitesse</span></li>   \n",
    "    <li><span>conception simple</span></li>\n",
    "    <li><span>support pour les développements non linéaires</li>\n",
    "    <li><span>capacité à gérer efficacement des projets d’envergure tels que le noyau Linux</span></li>\n",
    "</ul>"
   ]
  },
  {
   "cell_type": "markdown",
   "id": "769532a9-702d-4dcf-aae2-79e925eeaea2",
   "metadata": {
    "editable": true,
    "slideshow": {
     "slide_type": "slide"
    },
    "tags": []
   },
   "source": [
    "## Fonctionnement interne de Git\n",
    "\n",
    "1. Initialisation d'un dépo Git\n",
    "2. Sauvegarder des modifications\n",
    "3. Contruire des branches\n",
    "4. Fusionner des branches"
   ]
  },
  {
   "cell_type": "markdown",
   "id": "65053e8d",
   "metadata": {
    "slideshow": {
     "slide_type": "subslide"
    }
   },
   "source": [
    "### Point stats\n",
    "\n",
    "Un idée de l'efficacité de stockage \n",
    "\n",
    "* 1Go de code\n",
    "* 30 000 commits dans develop\n",
    "* .git de 9.6Go contenant 262 branches locales\n",
    "* .git de 2.4Mo au clone, contenant 1 seule branche locale\n",
    "\n",
    "Il est possible de connaitre l'état du projet à tout moment, sur n'importe quel commit.\n",
    "Tout les fichiers nécessaires au bon fonctionnement de git sont dans le .git, un serveur git n'est nécessaire que pour partager le dépo et pour les commandes `git pull` `git push` et `git fetch`."
   ]
  },
  {
   "attachments": {},
   "cell_type": "markdown",
   "id": "6165a39b-b05a-48a4-af9b-f4dddb3ae65e",
   "metadata": {
    "editable": true,
    "slideshow": {
     "slide_type": "subslide"
    },
    "tags": []
   },
   "source": [
    "### Initialisation d'un dépo Git\n",
    "\n",
    "Il est possible d'initialiser un dépo git à partir de n'importe quel dossier avec la commande `git init`.\n"
   ]
  },
  {
   "cell_type": "markdown",
   "id": "5402dcb7",
   "metadata": {
    "slideshow": {
     "slide_type": "fragment"
    }
   },
   "source": [
    "Partons d'un dossier vide:\n"
   ]
  },
  {
   "cell_type": "markdown",
   "id": "79740146",
   "metadata": {
    "slideshow": {
     "slide_type": "fragment"
    },
    "vscode": {
     "languageId": "plaintext"
    }
   },
   "source": [
    "<div style=\"display: flex; flex-direction:column; font-size:20px; font-weight: bold; border: solid 1px #e0e0e0; border-radius: 5px; padding:5px\">\n",
    "    <div><span style=\"color: red\">$ </span><span style=\"color: green\">ls -a</span></div>\n",
    "    <div>\n",
    "        <span style=\"color: blue\">./ ../</span>\n",
    "    </div>\n",
    "</div>\n",
    "<div style=\"display: flex; flex-direction:column; font-size:20px; font-weight: bold; border: solid 1px #e0e0e0; border-radius: 5px; padding:5px; margin-top:10px\">\n",
    "    <div><span style=\"color: red\">$ </span><span style=\"color: green\">git init</span></div>\n",
    "    <div>\n",
    "        <span style=\"color: black\">Initialized empty git repository</span>\n",
    "    </div>\n",
    "</div>\n",
    "<div style=\"display: flex; flex-direction:column; font-size:20px; font-weight: bold; border: solid 1px #e0e0e0; border-radius: 5px; padding:5px; margin-top:10px\">\n",
    "    <div><span style=\"color: red\">$ </span><span style=\"color: green\">ls -a</span></div>\n",
    "    <div>\n",
    "        <span style=\"color: blue\">./ ../ .git/</span>\n",
    "    </div>\n",
    "</div>"
   ]
  },
  {
   "cell_type": "markdown",
   "id": "1d32d820",
   "metadata": {
    "slideshow": {
     "slide_type": "subslide"
    }
   },
   "source": [
    "<div style=\"display: flex; flex-direction:column; font-size:20px; font-weight: bold; border: solid 1px #e0e0e0; border-radius: 5px; padding:5px\">\n",
    "    <div><span style=\"color: red\">/.git $ </span><span style=\"color: green\">ls</span></div>\n",
    "    <div>\n",
    "        <span style=\"color: purple\">HEAD config description</span>\n",
    "        <span style=\"color: blue\">hooks/ info/ objects/ refs/</span>\n",
    "    </div>\n",
    "</div>"
   ]
  },
  {
   "cell_type": "markdown",
   "id": "51133901",
   "metadata": {
    "slideshow": {
     "slide_type": "fragment"
    }
   },
   "source": [
    "* <span style=\"color: purple\"> HEAD </span>: nom de la branche actuelle (ou du commit en detached HEAD)\n",
    "* <span style=\"color: purple\"> config </span>: config du dépo (version du dépo, url du dépo, user...)\n",
    "* <span style=\"color: purple\"> description </span>: nom du dépo"
   ]
  },
  {
   "cell_type": "markdown",
   "id": "d5ee93e1",
   "metadata": {
    "slideshow": {
     "slide_type": "fragment"
    }
   },
   "source": [
    "* <span style=\"color: blue\"> hooks </span>: contient les actions lancé automatiquement lors de l'exécution de commande git (pre-commit, pre-push, commit-msg....)\n",
    "* <span style=\"color: blue\"> info </span>: confoiguration du dépo local, .gitignore, exlcudes...\n",
    "* <span style=\"color: blue; font-weight: bold\"> objects </span> : **contient les objets stockant les changements (blob, tree, commit...)**\n",
    "* <span style=\"color: blue; font-weight: bold\"> refs </span>: **contient les liens entre les branches (local et remote) et les tags.**"
   ]
  },
  {
   "cell_type": "markdown",
   "id": "bf9ea807",
   "metadata": {
    "slideshow": {
     "slide_type": "fragment"
    },
    "vscode": {
     "languageId": "plaintext"
    }
   },
   "source": [
    "<div style=\"display: flex; flex-direction:column; font-size:20px; font-weight: bold; border: solid 1px #e0e0e0; border-radius: 5px; padding:5px\">\n",
    "    <div><span style=\"color: red\">/.git $ </span><span style=\"color: green\">ls .git/objects</span></div>\n",
    "    <div>\n",
    "        <span style=\"color: blue\">info/ pack/</span>\n",
    "    </div>\n",
    "</div>\n",
    "\n",
    "* <span style=\"color: blue\"> info </span>: information sur des objets alternatifs.\n",
    "* <span style=\"color: blue\"> pack </span>: contenue des pack files."
   ]
  },
  {
   "cell_type": "markdown",
   "id": "ecbe8b9d-bfae-40f0-afe1-f7acc6851cea",
   "metadata": {
    "editable": true,
    "slideshow": {
     "slide_type": "subslide"
    },
    "tags": []
   },
   "source": [
    "### Sauvegarder des modifications\n",
    "Créons 2 nouveaux fichiers, `file1.txt` contenant \"Test 1\", et `file2.txt` contenant \"Test 2\" et étant dans le dossier `folder`.\n",
    "\n",
    "<div style=\"display: flex; flex-direction:column; font-size:20px; font-weight: bold; border: solid 1px #e0e0e0; border-radius: 5px; padding:5px; background-color:black; color: #e0e0e0\">\n",
    "    <span>root</span>\n",
    "    <span>├── file1.txt ( \"Test 1\" )</span>\n",
    "    <span>└── src</span>\n",
    "    <span style=\"padding-left:50px\">└── file2.txt ( \"Test 2\" )</span>\n",
    "</div>\n"
   ]
  },
  {
   "cell_type": "markdown",
   "id": "ca2c41ec",
   "metadata": {
    "slideshow": {
     "slide_type": "subslide"
    }
   },
   "source": [
    "Sauvegardons ces nouveaux fichiers dans le dépo git.\n",
    "<h4>1ère étape, git add </h4>\n",
    "\n",
    "<div style=\"display: flex; flex-direction:column; font-size:20px; font-weight: bold; border: solid 1px #e0e0e0; border-radius: 5px; padding:5px;\">\n",
    "   <div style=\"display:flex; gap: 10px\"><span style=\"color: red\">$ </span><span style=\"color: green\">git add .</span></div>\n",
    "</div>\n",
    "\n",
    "\n",
    "Que s'est il passé ? Allons regarder dans le `.git`."
   ]
  },
  {
   "cell_type": "markdown",
   "id": "4bbf8c09",
   "metadata": {},
   "source": [
    "<div style=\"display: flex; flex-direction:column; font-size:20px; font-weight: bold; border: solid 1px #e0e0e0; border-radius: 5px; padding:5px;\">\n",
    "    <div style=\"display:flex; gap: 10px\"><span style=\"color: red\">$ </span><span style=\"color: green\">ls .git/objects</span></div>\n",
    "    <span style=\"color: blue; margin-bottom: 50px\">info/ pack/ 3c/ 55/</span>\n",
    "    <div style=\"display:flex; gap: 10px\"><span style=\"color: red\">$ </span><span style=\"color: green\">ls .git/objects/3c</span></div>\n",
    "    <span style=\"color: purple; margin-bottom: 50px\">d77f0710fee3ea2ef3b7477277106fdd7ee1ec</span>\n",
    "   <div style=\"display:flex; gap: 10px\"><span style=\"color: red\">$ </span><span style=\"color: green\">ls .git/objects/55</span></div>\n",
    "    <span style=\"color: purple\">d8fa4b0d6ff9e9715ed2ed86763ca63ff4ae63</span>\n",
    "</div>\n",
    "\n",
    "Ces fichiers sont des Blob (Binary Large Object)."
   ]
  },
  {
   "cell_type": "markdown",
   "id": "ab9f9d41",
   "metadata": {
    "slideshow": {
     "slide_type": "subslide"
    }
   },
   "source": [
    "<h3>Affichons le contenue de ces blobs </h3>"
   ]
  },
  {
   "cell_type": "markdown",
   "id": "e6e3a933",
   "metadata": {
    "slideshow": {
     "slide_type": "fragment"
    }
   },
   "source": [
    "\n",
    "<div style=\"display: flex; flex-direction:column; font-size:20px; font-weight: bold; border: solid 1px #e0e0e0; border-radius: 5px; padding:5px; margin-bottom:15px\">\n",
    "    <div style=\"display:flex; gap: 10px\"><span style=\"color: red\">$ </span><span style=\"color: green\">cat .git/objects/3c/d77f0710fee3ea2ef3b7477277106fdd7ee1ec</span></div>\n",
    "    <span style=\"color: purple\">Q0▒$▒</span>\n",
    "</div>\n",
    "\n",
    "<div style=\"display: flex; flex-direction:column; font-size:20px; font-weight: bold; border: solid 1px #e0e0e0; border-radius: 5px; padding:5px\">\n",
    "    <div style=\"display:flex; gap: 10px\"><span style=\"color: red\">$ </span><span style=\"color: green\">cat .git/objects/55/d8fa4b0d6ff9e9715ed2ed86763ca63ff4ae63</span></div>\n",
    "    <span style=\"color: purple\">Q0▒&▒</span>\n",
    "</div>"
   ]
  },
  {
   "cell_type": "markdown",
   "id": "2419eb69",
   "metadata": {
    "slideshow": {
     "slide_type": "fragment"
    }
   },
   "source": [
    "Affichons le contenu réel des blobs\n",
    "\n",
    "<div style=\"display: flex; flex-direction:column; font-size:20px; font-weight: bold; border: solid 1px #e0e0e0; border-radius: 5px; padding:5px; margin-bottom:15px\">\n",
    "    <div style=\"display:flex; gap: 10px\"><span style=\"color: red\">$ </span><span style=\"color: green\">git cat-file blob 3cd77f0710fee3ea2ef3b7477277106fdd7ee1ec</span></div>\n",
    "    <span style=\"color: purple\">Test 1</span>\n",
    "</div>\n",
    "\n",
    "<div style=\"display: flex; flex-direction:column; font-size:20px; font-weight: bold; border: solid 1px #e0e0e0; border-radius: 5px; padding:5px;\">\n",
    "    <div style=\"display:flex; gap: 10px\"><span style=\"color: red\">$ </span><span style=\"color: green\">git cat-file blob 55d8fa4b0d6ff9e9715ed2ed86763ca63ff4ae63</span></div>\n",
    "    <span style=\"color: purple\">Test 2</span>\n",
    "</div>"
   ]
  },
  {
   "cell_type": "markdown",
   "id": "21d5a647",
   "metadata": {
    "slideshow": {
     "slide_type": "fragment"
    }
   },
   "source": [
    "L'identifiant d'un blob est un SHA-1 généré à partir d'un hash de:\n",
    "*   Type d'objet (blob ici)\n",
    "*   Taille\n",
    "*   Contenu\n",
    "\n",
    "Il fait 40 caractères hexa, ce qui fait plus de $10^{48}$ SHA différents disponibles.\n",
    "\n",
    "<span style=\"color: red; font-weight: bold\">Attention</span> SHA du Blob contient le nom du dossier.\n"
   ]
  },
  {
   "cell_type": "markdown",
   "id": "f77ab6f9",
   "metadata": {
    "slideshow": {
     "slide_type": "subslide"
    }
   },
   "source": [
    "Résumons ce qu'on a.\n",
    "<div style=\"display:flex\">\n",
    "    <img style=\"border-radius: 5px; margin: auto; width:80%; box-shadow: rgba(0, 0, 0, 0.35) 0px 5px 15px;\" src=\"pictures/git-add.png\" alt=\"git add\">\n",
    "</div>"
   ]
  },
  {
   "cell_type": "markdown",
   "id": "1e614055",
   "metadata": {
    "slideshow": {
     "slide_type": "fragment"
    }
   },
   "source": [
    "Quels fichiers modifiés ? Nom des fichiers ? Où dans l'arborescence ? Metadata ?"
   ]
  },
  {
   "cell_type": "markdown",
   "id": "4567cd03",
   "metadata": {
    "slideshow": {
     "slide_type": "subslide"
    }
   },
   "source": [
    "<h3>2ème étape, git commit </h3>\n",
    "\n",
    "La commande `git commit` fait 2 choses, elle crée un ensemble d'objet Tree décrivant l'arborescence de fichiers, et créer un objet commit."
   ]
  },
  {
   "cell_type": "markdown",
   "id": "182e1600",
   "metadata": {
    "slideshow": {
     "slide_type": "fragment"
    }
   },
   "source": [
    "<h3>Les objets Tree </h3>\n",
    "\n",
    "Utilisons la plumbing commande `git write-tree` pour construire l'aborescence.\n",
    "\n",
    "<div style=\"display: flex; flex-direction:column; font-size:20px; font-weight: bold; border: solid 1px #e0e0e0; border-radius: 5px; padding:5px;\">\n",
    "    <div style=\"display:flex; gap: 10px\"><span style=\"color: red\">$ </span><span style=\"color: green\">git write-tree</span></div>\n",
    "    <span style=\"color: purple; margin-bottom: 50px\">bf010268b9aaec572fcb61faf3b38eb9fb4ae916</span>\n",
    "    <div style=\"display:flex; gap: 10px\"><span style=\"color: red\">$ </span><span style=\"color: green\">ls .git/objects</span></div>\n",
    "    <span style=\"color: blue; margin-bottom: 50px\">info/ pack/ 3c/ 55/ bf/ ff/</span>\n",
    "    <div style=\"display:flex; gap: 10px; font-weight: 800\"><span style=\"color: red\">$ </span><span style=\"color: green\">ls .git/objects/bf</span></div>\n",
    "    <span style=\"color: purple; margin-bottom: 50px; font-weight: 800\">010268b9aaec572fcb61faf3b38eb9fb4ae916</span>\n",
    "    <div style=\"display:flex; gap: 10px; font-weight: 800\"><span style=\"color: red\">$ </span><span style=\"color: green\">ls .git/objects/ff</span></div>\n",
    "    <span style=\"color: purple; margin-bottom: 50px; font-weight: 800\">3e4802e7624245c0cc9733effca88e9c87c943</span>\n",
    "</div>"
   ]
  },
  {
   "cell_type": "markdown",
   "id": "fa72f33e",
   "metadata": {
    "slideshow": {
     "slide_type": "subslide"
    }
   },
   "source": [
    "<h3>Affichons le contenu de ces Tree </h3>\n",
    "\n",
    "<div style=\"display: flex; flex-direction:column; font-size:20px; font-weight: bold; border: solid 1px #e0e0e0; border-radius: 5px; padding:5px;\">\n",
    "    <div style=\"display:flex; gap: 10px\"><span style=\"color: red\">$ </span><span style=\"color: green\">git cat-file -p bf010268b9aaec572fcb61faf3b38eb9fb4ae916</span></div>\n",
    "    <span style=\"color: purple\">100644 blob 3cd77f0710fee3ea2ef3b7477277106fdd7ee1ec    file1.txt</span>\n",
    "    <span style=\"color: purple;margin-bottom:50px;\">040000 tree ff3e4802e7624245c0cc9733effca88e9c87c943    src</span>\n",
    "    <div style=\"display:flex; gap: 10px\"><span style=\"color: red\">$ </span><span style=\"color: green\">git cat-file -p ff3e4802e7624245c0cc9733effca88e9c87c943</span></div>\n",
    "    <span style=\"color: purple\">100644 blob 55d8fa4b0d6ff9e9715ed2ed86763ca63ff4ae63    file2.txt</span>\n",
    "</div>"
   ]
  },
  {
   "cell_type": "markdown",
   "id": "aa6cf83e",
   "metadata": {
    "slideshow": {
     "slide_type": "fragment"
    }
   },
   "source": [
    "Chaque ligne des Tree suit le format suivant:\n",
    "\n",
    "\n",
    "<div style=\"display: flex; font-size:20px; font-weight: bold; border: solid 1px #e0e0e0; border-radius: 5px; padding:5px; gap:10px\">\n",
    "    <span style=\"color: red\">Permission</span>\n",
    "    <span style=\"color: green\">Type de fichier</span>\n",
    "    <span style=\"color: black\">SHA</span>\n",
    "    <span style=\"color: purple\">Nom du fichier/dossier</span>\n",
    "</div>\n",
    "\n",
    "* Permission : lecture, écriture, exécutable, lien sabolique, répertoire, sous-module....\n",
    "* Type de fichier : Blob, Tree ou commit\n",
    "* SHA du fichier\n",
    "* Nom du fichier ou dossier\n",
    "\n",
    "Les fichiers Tree contiennent l'ensemble des metadata et reforme l'aborescence de fichier."
   ]
  },
  {
   "cell_type": "markdown",
   "id": "59220562",
   "metadata": {
    "slideshow": {
     "slide_type": "fragment"
    }
   },
   "source": [
    "\n",
    "<div style=\"display: flex; flex-direction:column; font-size:20px; font-weight: bold; border: solid 1px #e0e0e0; border-radius: 5px; padding:5px; background-color:black; color: #e0e0e0\">\n",
    "    <span>Tree (root)</span>\n",
    "    <span>├── Blob (file1.txt)</span>\n",
    "    <span>└── Tree (src)</span>\n",
    "    <span style=\"padding-left:50px\">└── Blob (file2.txt)</span>\n",
    "</div>"
   ]
  },
  {
   "cell_type": "markdown",
   "id": "3b61c882",
   "metadata": {
    "slideshow": {
     "slide_type": "subslide"
    }
   },
   "source": [
    "<h3>L'objet commit </h3>\n",
    "\n",
    "Après avoir créer les objet Tree, la commande `git commit` crée un objet commit.\n",
    "\n",
    "\n",
    "<div style=\"display: flex; flex-direction:column; font-size:20px; font-weight: bold; border: solid 1px #e0e0e0; border-radius: 5px; padding:5px;\">\n",
    "    <div style=\"display:flex; gap: 10px\"><span style=\"color: red\">$ </span><span style=\"color: green\">git commit -m \"Ceci est un message de commit\"</span></div>\n",
    "    <span style=\"color: #3b3b3bff\">[master (root-commit) 0bb69bc] Ceci est un message de commit</span>\n",
    "    <span style=\"color: black;\">  Committer: olivier.michau@avisto.com &lt;olivier.michau@avisto.com&gt;</span>\n",
    "    <span style=\"color: black;\"> 2 files changed, 2 insertions(+)</span>\n",
    "    <span style=\"color: black;\"> create mode 100644 file1.txt</span>\n",
    "    <span style=\"color: black;\"> create mode 100644 src/file2.txt</span>\n",
    "</div>"
   ]
  },
  {
   "cell_type": "markdown",
   "id": "2406a9b9",
   "metadata": {
    "slideshow": {
     "slide_type": "fragment"
    }
   },
   "source": [
    "<div style=\"display: flex; flex-direction:column; font-size:20px; font-weight: bold; border: solid 1px #e0e0e0; border-radius: 5px; padding:5px;\">\n",
    "    <div style=\"display:flex; gap: 10px\"><span style=\"color: red\">$ </span><span style=\"color: green\">ls .git/objects</span></div>\n",
    "    <span style=\"color: blue; margin-bottom: 50px\">info/ pack/ 3c/ 55/ bf/ ff/ 0b/</span>\n",
    "    <div style=\"display:flex; gap: 10px;\"><span style=\"color: red\">$ </span><span style=\"color: green\">ls .git/objects/0b</span></div>\n",
    "    <span style=\"color: purple\">b69bceab7f605a68b4d6f2807a76d967ed1617</span>\n",
    "</div>"
   ]
  },
  {
   "cell_type": "markdown",
   "id": "dd5bbbd2",
   "metadata": {
    "slideshow": {
     "slide_type": "fragment"
    }
   },
   "source": [
    "<div style=\"display: flex; flex-direction:column; font-size:20px; font-weight: bold; border: solid 1px #e0e0e0; border-radius: 5px; padding:5px;\">\n",
    "    <div style=\"display:flex; gap: 10px\"><span style=\"color: red\">$ </span><span style=\"color: green\"> git cat-file -p 0bb69bceab7f605a68b4d6f2807a76d967ed1617\n",
    "    </span></div>\n",
    "    <span style=\"color: purple\">info/ pack/ 3c/ 55/ bf/ ff/ 0b/</span>\n",
    "    <span style=\"color: purple\">tree bf010268b9aaec572fcb61faf3b38eb9fb4ae916</span>\n",
    "    <span style=\"color: purple\">author olivier.michau@avisto.com &lt;olivier.michau@avisto.com&gt; 1761308143 +0200</span>\n",
    "    <span style=\"color: purple\">committer olivier.michau@avisto.com &lt;olivier.michau@avisto.com&gt; 1761308143 +0200</span>\n",
    "    <span style=\"color: purple\">Ceci est un message de commit</span>\n",
    "</div>"
   ]
  },
  {
   "cell_type": "markdown",
   "id": "a5d34183",
   "metadata": {
    "slideshow": {
     "slide_type": "subslide"
    }
   },
   "source": [
    "Les objets commits contiennent les informations suivantes:\n",
    "\n",
    "* SHA du Tree de racine du projet\n",
    "* SHA du commit parent\n",
    "* L'auteur du commit (celui qui a changé les donné)\n",
    "* Le commiteur (celui qui a commit)\n",
    "* Message de commit\n",
    "* L'utilisateur qui a signé le commit\n",
    "\n",
    "Les commits ont un seul commit parent, sauf le commit initial qui n'en a pas et les commits de merge qui en ont 2."
   ]
  },
  {
   "cell_type": "markdown",
   "id": "24a9b675",
   "metadata": {
    "slideshow": {
     "slide_type": "subslide"
    }
   },
   "source": [
    "En résumé, avec le cas initial suivant:\n",
    "\n",
    "<div style=\"display: flex; flex-direction:row; font-size:25px; font-weight: bold; border: solid 1px #e0e0e0; border-radius: 5px; padding:5px; background-color:black; color: #e0e0e0\">\n",
    "    <div style=\"width:50%; display: flex; flex-direction:column;\">\n",
    "        <span style=\"text-decoration: underline\">Working directory</span>\n",
    "        <span>root</span>\n",
    "        <span>├── file1.txt</span>\n",
    "        <span>└── src/</span>\n",
    "        <span style=\"padding-left:50px\">└── file2.txt</span>\n",
    "    </div>\n",
    "    <div style=\"width:50%; display: flex; flex-direction:column;\">\n",
    "        <span style=\"text-decoration: underline\">Commit HEAD</span>\n",
    "        <span>Tree 1 (root)</span>\n",
    "        <span>├── Blob A (file1.txt)</span>\n",
    "        <span>└── Tree 2 (src/)</span>\n",
    "        <span style=\"padding-left:50px\">└── Blob B (file2.txt)</span>\n",
    "    </div>\n",
    "</div>"
   ]
  },
  {
   "cell_type": "markdown",
   "id": "9d3a0abe",
   "metadata": {
    "slideshow": {
     "slide_type": "fragment"
    }
   },
   "source": [
    "Si on modifie le fichier \"file1.txt\"\n",
    "<div style=\"display: flex; flex-direction:row; font-size:25px; font-weight: bold; border: solid 1px #e0e0e0; border-radius: 5px; padding:5px; background-color:black; color: #e0e0e0\">\n",
    "    <div style=\"width:50%; display: flex; flex-direction:column;\">\n",
    "        <span style=\"text-decoration: underline\">Working directory</span>\n",
    "        <span>root</span>\n",
    "        <span>├── file1.txt (modifié)</span>\n",
    "        <span>└── src/</span>\n",
    "        <span style=\"padding-left:50px\">└── file2.txt</span>\n",
    "    </div>\n",
    "    <div style=\"width:50%; display: flex; flex-direction:column;\">\n",
    "        <span style=\"text-decoration: underline\">Nouveau Commit</span>\n",
    "        <span>Tree 3 (root)</span>\n",
    "        <span>├── Blob C (file1.txt)</span>\n",
    "        <span>└── Tree 2 (src/)</span>\n",
    "        <span style=\"padding-left:50px\">└── Blob B (file2.txt)</span>\n",
    "    </div>\n",
    "</div>"
   ]
  },
  {
   "cell_type": "markdown",
   "id": "3a73edfa",
   "metadata": {
    "slideshow": {
     "slide_type": "subslide"
    }
   },
   "source": [
    "### Construire des branches\n",
    "\n",
    "Puisque chaque commit à le commit parent, on peux recontruire tout l'historique des modifications, depuis le commit initial et jusqu'à l'état actuel.\n",
    " \n",
    "<div style=\"display:flex\">\n",
    "    <img style=\"border-radius: 5px; margin: auto; width:80%; box-shadow: rgba(0, 0, 0, 0.35) 0px 5px 15px;\" src=\"pictures/branch-part-1.png\" alt=\"branch\">\n",
    "</div>"
   ]
  },
  {
   "cell_type": "markdown",
   "id": "3cc5a1dd",
   "metadata": {
    "slideshow": {
     "slide_type": "fragment"
    }
   },
   "source": [
    "L'ensemble des commit HEAD pour chaque branches est contenue dans le dossier refs. "
   ]
  },
  {
   "cell_type": "markdown",
   "id": "b775e57c",
   "metadata": {
    "slideshow": {
     "slide_type": "subslide"
    }
   },
   "source": [
    "Faire la commande commit met à jour le HEAD de la branch actuelle.\n",
    "\n",
    "<div style=\"display:flex\">\n",
    "    <img style=\"border-radius: 5px; margin: auto; width:80%; box-shadow: rgba(0, 0, 0, 0.35) 0px 5px 15px;\" src=\"pictures/multi-branch.png\" alt=\"branch\">\n",
    "</div>"
   ]
  },
  {
   "cell_type": "markdown",
   "id": "f62d949d",
   "metadata": {
    "slideshow": {
     "slide_type": "subslide"
    }
   },
   "source": [
    "<h3>Comment git met à jour le working directory lors d'un changement de branche</h3>\n",
    "\n",
    "En théorie facile, on supprime tout le working directory et on recrée tout les fichiers à partir du commit HEAD de la branch (tree + blob). Super les 5min pour changer de branche !\n",
    "\n",
    "<div style=\"display:flex\">\n",
    "    <img style=\"border-radius: 5px; margin: auto; width:80%; box-shadow: rgba(0, 0, 0, 0.35) 0px 5px 15px;\" src=\"pictures/git-diff-part-2.png\" alt=\"branch\">\n",
    "</div>\n",
    "\n",
    "Git ne remplace que les fichiers qui sont différent entre le HEAD actuel et le HEAD cible. "
   ]
  },
  {
   "cell_type": "markdown",
   "id": "5cf420e6",
   "metadata": {
    "slideshow": {
     "slide_type": "subslide"
    }
   },
   "source": [
    "<h3>Comment Git sait les fichiers qui ont été modifié ? Les SHA ! </h3>\n",
    "\n",
    "Comme le SHA d'un Blob dépends du contenu du fichier et que le SHA d'un Tree dépends des blob qu'il contient, si 2 Tree (représentant le même dossier) ont 2 SHA différents, alors ils contiennent au moins un Blob différent.\n"
   ]
  },
  {
   "cell_type": "markdown",
   "id": "a715563b",
   "metadata": {
    "slideshow": {
     "slide_type": "fragment"
    },
    "vscode": {
     "languageId": "plaintext"
    }
   },
   "source": [
    "<div style=\"display: flex; flex-direction:row; font-size:25px; font-weight: bold; border: solid 1px #e0e0e0; border-radius: 5px; padding:5px; background-color:black; color: #e0e0e0\">\n",
    "    <div style=\"width:50%; display: flex; flex-direction:column;\">\n",
    "        <span style=\"text-decoration: underline\">HEAD source (branche A)</span>\n",
    "        <span>Tree | root (SHA ff3e480)</span>\n",
    "        <span>├── Blob | readme.md (SHA f8e24c7)</span>\n",
    "        <span>└── Tree | src/ (SHA bf010268)</span>\n",
    "        <span style=\"padding-left:50px\">└── Blob | config.json (SHA aa1b464)</span>\n",
    "        <span>└── Tree | asset/ (SHA 38e1ee4)</span>\n",
    "        <span style=\"padding-left:50px\">└── Blob | logo.png (SHA 19ea134)</span>\n",
    "    </div>\n",
    "    <div style=\"width:50%; display: flex; flex-direction:column;\">\n",
    "        <span style=\"text-decoration: underline\">HEAD cible (branche B)</span>\n",
    "        <span>Tree | root (SHA <span style=\"color:red\">5e1de20</span>)</span>\n",
    "        <span>├── Blob | readme.md (SHA f8e24c7)</span>\n",
    "        <span>└── Tree | src/ (SHA <span style=\"color:red\">6033e4b</span>)</span>\n",
    "        <span style=\"padding-left:50px\">└── Blob | config.json (SHA <span style=\"color:red\">41bd3b3</span>)</span>\n",
    "        <span>└── Tree | asset/ (SHA 38e1ee4)</span>\n",
    "        <span style=\"padding-left:50px\">└── Blob | logo.png (SHA 19ea134)</span>\n",
    "    </div>\n",
    "</div>"
   ]
  },
  {
   "cell_type": "markdown",
   "id": "06fa2644",
   "metadata": {
    "slideshow": {
     "slide_type": "fragment"
    }
   },
   "source": [
    "Juste en lisant les SHA, on peux déterminer que seul le fichier config.json a été modifié. Il suffit alors d'écraser le fichier actuel par le contenu du Blob de la branche B, et le working directory est à jour !\n",
    "\n",
    "Une fois le working directory à jour, le nom de la branch actuelle dans le fichier HEAD du `.git`"
   ]
  },
  {
   "cell_type": "markdown",
   "id": "59258484",
   "metadata": {
    "slideshow": {
     "slide_type": "subslide"
    }
   },
   "source": [
    "### Fusionner des branches\n",
    "\n",
    "On a 2 branches distinctes avec chacune leur commits, le but est que la branche cible contienne les changements des 2 branches initiales.\n",
    "\n",
    "Il y a 2 stratégies **Merge** et **Rebase**\n",
    "\n",
    "<div style=\"display:flex\">\n",
    "    <img style=\"border-radius: 5px; margin: auto; width:80%; box-shadow: rgba(0, 0, 0, 0.35) 0px 5px 15px;\" src=\"pictures/merge-vs-rebase.png\" alt=\"branch\">\n",
    "</div>"
   ]
  },
  {
   "cell_type": "markdown",
   "id": "4d153f4c",
   "metadata": {
    "slideshow": {
     "slide_type": "subslide"
    }
   },
   "source": [
    "<h3>Rebase</h3>\n",
    "\n",
    "Le principe de **Rebase** est de garder un historique linéaire, en déplaçant le premier commit la branche cible sur le dernier commit de la branche source.\n",
    "\n",
    "<div style=\"display:flex\">\n",
    "    <img style=\"border-radius: 5px; margin: auto; width:80%; box-shadow: rgba(0, 0, 0, 0.35) 0px 5px 15px;\" src=\"pictures/git-rebase-part-1.png\" alt=\"branch\">\n",
    "</div>\n"
   ]
  },
  {
   "cell_type": "markdown",
   "id": "72e2a894",
   "metadata": {
    "slideshow": {
     "slide_type": "fragment"
    }
   },
   "source": [
    "Git cherche le commit de base, c'est à dire le commit le plus réçent en commun avec les 2 branches.\n",
    "\n",
    "<div style=\"display:flex; margin-top:20px\">\n",
    "    <img style=\"border-radius: 5px; margin: auto; width:80%; box-shadow: rgba(0, 0, 0, 0.35) 0px 5px 15px;\" src=\"pictures/git-rebase-part-2.png\" alt=\"branch\">\n",
    "</div>"
   ]
  },
  {
   "cell_type": "markdown",
   "id": "c5427a09",
   "metadata": {
    "slideshow": {
     "slide_type": "subslide"
    }
   },
   "source": [
    "Une fois le commit de base, git calcule les diff entre chaque commit et son précédent.\n",
    "\n",
    "<div style=\"display:flex; margin-top:20px\">\n",
    "    <img style=\"border-radius: 5px; margin: auto; width:80%; box-shadow: rgba(0, 0, 0, 0.35) 0px 5px 15px;\" src=\"pictures/git-rebase-part-3.png\" alt=\"branch\">\n",
    "</div>"
   ]
  },
  {
   "cell_type": "markdown",
   "id": "81a27fa3",
   "metadata": {},
   "source": [
    "Pour faire les diff entre 2 commits, git cherche tout les fichiers modifiés (comme précédemment), puis utilise l'algorithme **Myers diff**. Cet algorithme sort la différence minimale entre les 2 fichiers de la forme:\n",
    "\n",
    "--"
   ]
  },
  {
   "cell_type": "markdown",
   "id": "b8e1ac7a-3ca7-4405-9927-6f1c7dfe99bd",
   "metadata": {
    "editable": true,
    "slideshow": {
     "slide_type": "slide"
    },
    "tags": []
   },
   "source": [
    "## Pour aller plus loin"
   ]
  },
  {
   "cell_type": "markdown",
   "id": "86cef060-9a4d-4a8d-b5a6-e8a017f2d724",
   "metadata": {
    "editable": true,
    "slideshow": {
     "slide_type": "fragment"
    },
    "tags": []
   },
   "source": [
    "  1) git switch vs git checkout\n",
    "  2) git bisect\n",
    "  3) git log"
   ]
  },
  {
   "cell_type": "markdown",
   "id": "d8575874-724e-4d70-97a2-ed56f5c46d2f",
   "metadata": {
    "editable": true,
    "raw_mimetype": "",
    "slideshow": {
     "slide_type": "subslide"
    },
    "tags": []
   },
   "source": [
    "### Switch et Checkout (1/X)"
   ]
  },
  {
   "cell_type": "markdown",
   "id": "a96d91b3-266d-475f-ba17-6c411d93e89c",
   "metadata": {
    "editable": true,
    "slideshow": {
     "slide_type": "fragment"
    },
    "tags": []
   },
   "source": [
    ">     Git switch and git checkout are both used to change branches, but they have some differences in syntax and behavior. Git switch is a newer command that is more focused on branches, while git checkout is an older command that can do other things besides switching branches.\n",
    ">     Git checkout has a more versatile syntax than git switch, but it can also be more confusing and error-prone if you don’t understand its behavior.\n",
    "*Source*: [Git Switch vs. Checkout: What’s the Difference? (2023)](https://kodekloud.com/blog/git-switch-vs-checkout/)"
   ]
  },
  {
   "cell_type": "markdown",
   "id": "468dce56-c739-483f-8677-e7c28b4e52a8",
   "metadata": {
    "editable": true,
    "raw_mimetype": "",
    "slideshow": {
     "slide_type": "fragment"
    },
    "tags": []
   },
   "source": [
    "> Two new commands \"git switch\" and \"git restore\" are introduced to\n",
    "   split \"checking out a branch to work on advancing its history\" and\n",
    "   \"checking out paths out of the index and/or a tree-ish to work on\n",
    "   advancing the current history\" out of the single \"git checkout\"\n",
    "   command.\n",
    "\n",
    "*source*: [release 2.23](https://github.com/git/git/blob/2d2a71ce85026edcc40f469678a1035df0dfcf57/Documentation/RelNotes/2.23.0.adoc?plain=1#L61-L65)"
   ]
  },
  {
   "cell_type": "markdown",
   "id": "a5e612b9-0d3b-403e-b89b-4104abe39e24",
   "metadata": {
    "editable": true,
    "slideshow": {
     "slide_type": "subslide"
    },
    "tags": []
   },
   "source": [
    "### Switch et Checkout (2/X)\n",
    "----------------------------"
   ]
  },
  {
   "cell_type": "markdown",
   "id": "d0f182fd-f88a-44fe-be04-b5646b63e8b1",
   "metadata": {
    "editable": true,
    "slideshow": {
     "slide_type": "fragment"
    },
    "tags": []
   },
   "source": [
    "```c\n",
    "int cmd_main(int argc, const char **argv)\n",
    "{\n",
    "\tstruct strvec args = STRVEC_INIT;\n",
    "\tconst char *cmd;\n",
    "\tint done_help = 0;\n",
    "\n",
    "\tcmd = argv[0];\n",
    "\tif (!cmd)\n",
    "\t\tcmd = \"git-help\";\n",
    "\telse {\n",
    "\t\tconst char *slash = find_last_dir_sep(cmd);\n",
    "\t\tif (slash)\n",
    "\t\t\tcmd = slash + 1;\n",
    "\t}\n",
    "\n",
    "\t(...)\n",
    "\n",
    "\n",
    "\twhile (1) {\n",
    "\t\tint was_alias = run_argv(&args);\n",
    "\t\t(...)\n",
    "\t}\n",
    "\n",
    "\tfprintf(stderr, _(\"failed to run command '%s': %s\\n\"),\n",
    "\t\tcmd, strerror(errno));\n",
    "\tstrvec_clear(&args);\n",
    "\n",
    "\treturn 1;\n",
    "}\n",
    "```\n",
    "*source*: [git.c](https://github.com/git/git/blob/2d2a71ce85026edcc40f469678a1035df0dfcf57/git.c#L882)"
   ]
  },
  {
   "cell_type": "markdown",
   "id": "976aa18d-33a7-4bbc-99e6-e6acbccbf80f",
   "metadata": {
    "editable": true,
    "slideshow": {
     "slide_type": "subslide"
    },
    "tags": []
   },
   "source": [
    "### Switch et Checkout (3/X)\n",
    "----------------------------\n",
    "```c\n",
    "static struct cmd_struct *get_builtin(const char *s)\n",
    "{\n",
    "\tfor (size_t i = 0; i < ARRAY_SIZE(commands); i++) {\n",
    "\t\tstruct cmd_struct *p = commands + i;\n",
    "\t\tif (!strcmp(s, p->cmd))\n",
    "\t\t\treturn p;\n",
    "\t}\n",
    "\treturn NULL;\n",
    "}\n",
    "```\n",
    "*source*: [git.c](https://github.com/git/git/blob/2d2a71ce85026edcc40f469678a1035df0dfcf57/git.c#L653)"
   ]
  },
  {
   "cell_type": "markdown",
   "id": "d25765a9-ef62-4dd8-96b9-c9a4d6b4dd4b",
   "metadata": {
    "editable": true,
    "slideshow": {
     "slide_type": "fragment"
    },
    "tags": []
   },
   "source": [
    "```c\n",
    "static struct cmd_struct commands[] = { //l.503\n",
    "\t{ \"add\", cmd_add, RUN_SETUP | NEED_WORK_TREE },\n",
    "\t{ \"am\", cmd_am, RUN_SETUP | NEED_WORK_TREE },\n",
    "\t{ \"annotate\", cmd_annotate, RUN_SETUP },\n",
    "\t{ \"apply\", cmd_apply, RUN_SETUP_GENTLY },\n",
    "\t{ \"archive\", cmd_archive, RUN_SETUP_GENTLY },\n",
    "\t{ \"backfill\", cmd_backfill, RUN_SETUP },\n",
    "\t{ \"bisect\", cmd_bisect, RUN_SETUP },\n",
    "    (...)\n",
    "\t{ \"checkout\", cmd_checkout, RUN_SETUP | NEED_WORK_TREE }, //l.520\n",
    "    (...)\n",
    "    { \"switch\", cmd_switch, RUN_SETUP | NEED_WORK_TREE }, //l.632\n",
    "    (...)\n",
    "```\n",
    "*source*: [git.c](https://github.com/git/git/blob/2d2a71ce85026edcc40f469678a1035df0dfcf57/git.c#L503)"
   ]
  },
  {
   "cell_type": "markdown",
   "id": "2992df14-31aa-434a-9f38-e0c328819f39",
   "metadata": {
    "editable": true,
    "slideshow": {
     "slide_type": "subslide"
    },
    "tags": []
   },
   "source": [
    "### Switch et Checkout (4/X)\n",
    "----------------------------\n",
    "\n",
    "```c\n",
    "int cmd_switch(int argc,\n",
    "\t       const char **argv,\n",
    "\t       const char *prefix,\n",
    "\t       struct repository *repo UNUSED)\n",
    "{\n",
    "\tstruct checkout_opts opts = CHECKOUT_OPTS_INIT; // same as checkout\n",
    "\tstruct option *options = NULL;\n",
    "\tstruct option switch_options[] = {\n",
    "\t\tOPT_STRING('c', \"create\", &opts.new_branch, N_(\"branch\"),\n",
    "\t\t\t   N_(\"create and switch to a new branch\")),\n",
    "\t\tOPT_STRING('C', \"force-create\", &opts.new_branch_force, N_(\"branch\"),\n",
    "\t\t\t   N_(\"create/reset and switch to a branch\")),\n",
    "\t\tOPT_BOOL(0, \"guess\", &opts.dwim_new_local_branch,\n",
    "\t\t\t N_(\"second guess 'git switch <no-such-branch>'\")),\n",
    "\t\tOPT_BOOL(0, \"discard-changes\", &opts.discard_changes,\n",
    "\t\t\t N_(\"throw away local modifications\")),\n",
    "\t\tOPT_END()\n",
    "\t};\n",
    "    (...)\n",
    "    opts.switch_branch_doing_nothing_is_ok = 0; // Ces deux paramètres ont leurs importances \n",
    "\topts.only_merge_on_switching_branches = 1;\n",
    "        \n",
    "\toptions = parse_options_dup(switch_options);\n",
    "\toptions = add_common_options(&opts, options);\n",
    "\toptions = add_common_switch_branch_options(&opts, options);\n",
    "\n",
    "\treturn checkout_main(argc, argv, prefix, &opts, options,  // Un appel a checkout_main\n",
    "\t\t\t     switch_branch_usage);\n",
    "}\n",
    "```\n",
    "*source*: [git/builtin/checkout.c](https://github.com/git/git/blob/master/builtin/checkout.c#L2038)"
   ]
  },
  {
   "cell_type": "markdown",
   "id": "341c5287-06fb-42f3-9f76-841e8ae35b0f",
   "metadata": {
    "editable": true,
    "slideshow": {
     "slide_type": "subslide"
    },
    "tags": []
   },
   "source": [
    "### Switch et Checkout (5/X)\n",
    "----------------------------\n",
    "\n",
    "```c\n",
    "int cmd_checkout(int argc,\n",
    "\t\t const char **argv,\n",
    "\t\t const char *prefix,\n",
    "\t\t struct repository *repo UNUSED)\n",
    "{\n",
    "\tstruct checkout_opts opts = CHECKOUT_OPTS_INIT;\n",
    "\tstruct option *options;\n",
    "\tstruct option checkout_options[] = {\n",
    "\t\tOPT_STRING('b', NULL, &opts.new_branch, N_(\"branch\"),\n",
    "\t\t\t   N_(\"create and checkout a new branch\")),\n",
    "\t\tOPT_STRING('B', NULL, &opts.new_branch_force, N_(\"branch\"),\n",
    "\t\t\t   N_(\"create/reset and checkout a branch\")),\n",
    "\t\tOPT_BOOL('l', NULL, &opts.new_branch_log, N_(\"create reflog for new branch\")),\n",
    "\t\tOPT_BOOL(0, \"guess\", &opts.dwim_new_local_branch,\n",
    "\t\t\t N_(\"second guess 'git checkout <no-such-branch>' (default)\")),\n",
    "\t\tOPT_BOOL(0, \"overlay\", &opts.overlay_mode, N_(\"use overlay mode (default)\")),\n",
    "\t\tOPT_END()\n",
    "\t};\n",
    "    (...)\n",
    "    opts.switch_branch_doing_nothing_is_ok = 1; // Tiens tiens tiens...\n",
    "\topts.only_merge_on_switching_branches = 0;\n",
    "\n",
    "\tif (argc == 3 && !strcmp(argv[1], \"-b\")) { // Si l'utilisateur rentre [git] checkout -b <branchName>\n",
    "\t\t/*\n",
    "\t\t * User ran 'git checkout -b <branch>' and expects\n",
    "\t\t * the same behavior as 'git switch -c <branch>'.\n",
    "\t\t */\n",
    "\t\topts.switch_branch_doing_nothing_is_ok = 0;\n",
    "\t\topts.only_merge_on_switching_branches = 1;\n",
    "\t}\n",
    "\n",
    "\t(...) // On Parse les options\n",
    "\n",
    "\treturn checkout_main(argc, argv, prefix, &opts, options, // Toujours un appel a checkout_main\n",
    "\t\t\t     checkout_usage); -> On Appelle la même fonction en bas\n",
    "}\n",
    "```\n",
    "*source*: [git/builtin/checkout.c](https://github.com/git/git/blob/master/builtin/checkout.c#L1988)"
   ]
  },
  {
   "cell_type": "markdown",
   "id": "9d55d480-34b4-41ab-8cf9-38e2bc457213",
   "metadata": {
    "editable": true,
    "slideshow": {
     "slide_type": "subslide"
    },
    "tags": []
   },
   "source": [
    "#### Que faire avec ces deux commandes ?\n",
    "----------------------------------------"
   ]
  },
  {
   "cell_type": "markdown",
   "id": "c8475c95-e8ad-48b3-b78c-c3d74664eedb",
   "metadata": {
    "editable": true,
    "slideshow": {
     "slide_type": "fragment"
    },
    "tags": []
   },
   "source": [
    "| Difference | Switch | Checkout |\n",
    "|:------:|:------:|:-----:|\n",
    "| Working with older git versions (2.22 and below) | Only works with newer Git versions (2.23 and above) | Works with both older and new Git versions | \n",
    "|Search for a branch in the remote repository if it’s not found in the local repository| Supported | Not Supported |\n",
    "|Merge the current branch into another branch and switch to it| Supported | Not supported |\n",
    "\n",
    "*source:* [Git Switch vs. Checkout: What’s the Difference?](https://kodekloud.com/blog/git-switch-vs-checkout/)"
   ]
  },
  {
   "cell_type": "markdown",
   "id": "2c301e11-0b06-47d0-977f-57a53d87a7d7",
   "metadata": {
    "editable": true,
    "slideshow": {
     "slide_type": "fragment"
    },
    "tags": []
   },
   "source": [
    "\n",
    "- *Checkout*: Résoudre les conflits git (ours/theirs)\n",
    "- *Switch*: Opérations sur les branches : changement/création/suppression\n"
   ]
  },
  {
   "cell_type": "markdown",
   "id": "0355e4ff-18df-46a5-963d-b3c539c0ebff",
   "metadata": {
    "editable": true,
    "slideshow": {
     "slide_type": "subslide"
    },
    "tags": []
   },
   "source": [
    "### Bisect (1/X)\n",
    "----------------"
   ]
  },
  {
   "cell_type": "markdown",
   "id": "44f25802-2b07-4ea6-b7d7-e43942f441f6",
   "metadata": {
    "editable": true,
    "slideshow": {
     "slide_type": "fragment"
    },
    "tags": []
   },
   "source": [
    "<div style=\"display:flex\">\n",
    "    <img style=\"border: 3px solid #08182F; border-radius: 50px; padding-left:5px; margin: auto\" width=500px height=500px src=\"pictures/bisect.png\" alt=\"bitkeeper\">\n",
    "</div>"
   ]
  },
  {
   "cell_type": "markdown",
   "id": "f39f01ed-0947-4f0d-b9b0-1ea3b9ad0c5c",
   "metadata": {
    "editable": true,
    "raw_mimetype": "",
    "slideshow": {
     "slide_type": "fragment"
    },
    "tags": []
   },
   "source": [
    "En anglais, cet algorithme se nomme _binary search_, mais c’est son exploitation mathématique, nommée _bisection_, qui a donné son nom à la commande git **bisect**.\n",
    "\n",
    "*Quelques chiffres*:\n",
    "- Pour trouver un faux commit parmis 100 il faut au maximum 7 iterations.\n",
    "- Pour trouver un faux commit parmis 1 000 000 000, il ne faudrait au pire que 27 iterations !"
   ]
  },
  {
   "cell_type": "markdown",
   "id": "242c1843-7bbc-4c5b-b63b-b878fa87228c",
   "metadata": {
    "editable": true,
    "slideshow": {
     "slide_type": "subslide"
    },
    "tags": []
   },
   "source": [
    "### Bisect (2/X)\n",
    "----------------\n",
    "\n",
    "<div style=\"display:flex\">\n",
    "    <img style=\"border: 3px solid #08182F; border-radius: 50px; padding-left:5px; margin: auto\" width=500px height=500px src=\"pictures/bisect.png\" alt=\"bitkeeper\">\n",
    "</div>\n",
    "\n",
    "La commande `git bisect` exploite toute une série de sous-commandes.\n",
    "\n",
    "1. On démarre avec un `git bisect start`\n",
    "2. Un `git bisect bad` identifie le premier commit problématique connu\n",
    "3. Un `git bisect good` identifie un commit qui n’avait pas le problème\n",
    "4. À partir de là, la dichotomie commence : Git fait un `checkout` au milieu de l’intervalle, et ici trois options : `git bisect bad` ou `git bisect good` (ou plus rarement, `git bisect skip`).\n",
    "\n",
    "*source:* [Git Bisect : débusquer rapidement l'origine d'un bug](https://comprendre-git.com/fr/commandes/git-bisect/)"
   ]
  },
  {
   "cell_type": "markdown",
   "id": "b393b778-12a9-469e-99e8-1fd11b997645",
   "metadata": {
    "editable": true,
    "slideshow": {
     "slide_type": "slide"
    },
    "tags": []
   },
   "source": [
    "### Log (1/X)\n",
    "----------------"
   ]
  },
  {
   "cell_type": "markdown",
   "id": "bc64719a-442e-4ae2-bc4a-fb67230c0110",
   "metadata": {
    "editable": true,
    "slideshow": {
     "slide_type": "fragment"
    },
    "tags": []
   },
   "source": [
    "\n",
    "> $ git log\n",
    "\n",
    "*Sortie:*\n",
    "```sh\n",
    "\tcommit ca82a6dff817ec66f44342007202690a93763949\n",
    "\tAuthor: Scott Chacon schacon@gee-mail.com\n",
    "\tDate: Mon Mar 17 21:52:11 2008 -0700\n",
    "\t\t\tchanged the version number\n",
    "\tcommit 085bb3bcb608e1e8451d4b2432f8ecbe6306e7e7\n",
    "\tAuthor: Scott Chacon schacon@gee-mail.com\n",
    "\tDate: Sat Mar 15 16:40:33 2008 -0700\n",
    "\t\t\tremoved unnecessary test\n",
    "\tcommit a11bef06a3f659402fe7563abf99ad00de2209e6\n",
    "\tAuthor: Scott Chacon schacon@gee-mail.com\n",
    "\tDate: Sat Mar 15 10:31:28 2008 -0700\n",
    "\t\t\tfirst commit\n",
    "```"
   ]
  },
  {
   "cell_type": "markdown",
   "id": "ee4fbb1c-2c08-4415-9790-4b02ddaf1a04",
   "metadata": {
    "editable": true,
    "slideshow": {
     "slide_type": "subslide"
    },
    "tags": []
   },
   "source": [
    "### Log (2/X)\n",
    "----------------\n",
    "\n",
    "> $ git log\n",
    "\n",
    "*Sortie:*\n",
    "<p>\n",
    "&nbsp;&nbsp;&nbsp;&nbsp;<span style=\"color:orange\">commit ca82a6dff817ec66f44342007202690a93763949</span></br>\n",
    "&nbsp;&nbsp;&nbsp;&nbsp;Author: Scott Chacon schacon@gee-mail.com</br>\n",
    "&nbsp;&nbsp;&nbsp;&nbsp;Date: Mon Mar 17 21:52:11 2008 -0700</br>\n",
    "&nbsp;&nbsp;&nbsp;&nbsp;&nbsp;&nbsp;&nbsp;&nbsp;changed the version number</br>\n",
    "&nbsp;&nbsp;&nbsp;&nbsp;commit 085bb3bcb608e1e8451d4b2432f8ecbe6306e7e7</br>\n",
    "&nbsp;&nbsp;&nbsp;&nbsp;Author: Scott Chacon schacon@gee-mail.com</br>\n",
    "&nbsp;&nbsp;&nbsp;&nbsp;Date: Sat Mar 15 16:40:33 2008 -0700</br>\n",
    "&nbsp;&nbsp;&nbsp;&nbsp;&nbsp;&nbsp;&nbsp;&nbsp;removed unnecessary test</br>\n",
    "&nbsp;&nbsp;&nbsp;&nbsp;commit a11bef06a3f659402fe7563abf99ad00de2209e6</br>\n",
    "&nbsp;&nbsp;&nbsp;&nbsp;Author: Scott Chacon schacon@gee-mail.com</br>\n",
    "&nbsp;&nbsp;&nbsp;&nbsp;Date: Sat Mar 15 10:31:28 2008 -0700</br>\n",
    "&nbsp;&nbsp;&nbsp;&nbsp;&nbsp;&nbsp;&nbsp;&nbsp;first commit</br>\n",
    "</p>\n"
   ]
  },
  {
   "cell_type": "markdown",
   "id": "b34b4287-76da-4c47-9847-ae34d535dce6",
   "metadata": {
    "editable": true,
    "slideshow": {
     "slide_type": "subslide"
    },
    "tags": []
   },
   "source": [
    "### Log (3/X)\n",
    "----------------\n",
    "\n",
    "> $ git log\n",
    "\n",
    "*Sortie:*\n",
    "<p>\n",
    "&nbsp;&nbsp;&nbsp;&nbsp;commit ca82a6dff817ec66f44342007202690a93763949</br>\n",
    "&nbsp;&nbsp;&nbsp;&nbsp;<span style=\"color:orange\">Author: Scott Chacon schacon@gee-mail.com</span></br>\n",
    "&nbsp;&nbsp;&nbsp;&nbsp;Date: Mon Mar 17 21:52:11 2008 -0700</br>\n",
    "&nbsp;&nbsp;&nbsp;&nbsp;&nbsp;&nbsp;&nbsp;&nbsp;changed the version number</br>\n",
    "&nbsp;&nbsp;&nbsp;&nbsp;commit 085bb3bcb608e1e8451d4b2432f8ecbe6306e7e7</br>\n",
    "&nbsp;&nbsp;&nbsp;&nbsp;Author: Scott Chacon schacon@gee-mail.com</br>\n",
    "&nbsp;&nbsp;&nbsp;&nbsp;Date: Sat Mar 15 16:40:33 2008 -0700</br>\n",
    "&nbsp;&nbsp;&nbsp;&nbsp;&nbsp;&nbsp;&nbsp;&nbsp;removed unnecessary test</br>\n",
    "&nbsp;&nbsp;&nbsp;&nbsp;commit a11bef06a3f659402fe7563abf99ad00de2209e6</br>\n",
    "&nbsp;&nbsp;&nbsp;&nbsp;Author: Scott Chacon schacon@gee-mail.com</br>\n",
    "&nbsp;&nbsp;&nbsp;&nbsp;Date: Sat Mar 15 10:31:28 2008 -0700</br>\n",
    "&nbsp;&nbsp;&nbsp;&nbsp;&nbsp;&nbsp;&nbsp;&nbsp;first commit</br>\n",
    "</p>"
   ]
  },
  {
   "cell_type": "markdown",
   "id": "b025646f-1448-4085-a7f9-d6c18c2ee481",
   "metadata": {
    "editable": true,
    "slideshow": {
     "slide_type": "subslide"
    },
    "tags": []
   },
   "source": [
    "### Log (4/X)\n",
    "----------------\n",
    "\n",
    "> $ git log\n",
    "\n",
    "*Sortie:*\n",
    "<p>\n",
    "&nbsp;&nbsp;&nbsp;&nbsp;commit ca82a6dff817ec66f44342007202690a93763949</br>\n",
    "&nbsp;&nbsp;&nbsp;&nbsp;Author: Scott Chacon schacon@gee-mail.com</br>\n",
    "&nbsp;&nbsp;&nbsp;&nbsp;<span style=\"color:orange\">Date: Mon Mar 17 21:52:11 2008 -0700</span></br>\n",
    "&nbsp;&nbsp;&nbsp;&nbsp;&nbsp;&nbsp;&nbsp;&nbsp;changed the version number</br>\n",
    "&nbsp;&nbsp;&nbsp;&nbsp;commit 085bb3bcb608e1e8451d4b2432f8ecbe6306e7e7</br>\n",
    "&nbsp;&nbsp;&nbsp;&nbsp;Author: Scott Chacon schacon@gee-mail.com</br>\n",
    "&nbsp;&nbsp;&nbsp;&nbsp;Date: Sat Mar 15 16:40:33 2008 -0700</br>\n",
    "&nbsp;&nbsp;&nbsp;&nbsp;&nbsp;&nbsp;&nbsp;&nbsp;removed unnecessary test</br>\n",
    "&nbsp;&nbsp;&nbsp;&nbsp;commit a11bef06a3f659402fe7563abf99ad00de2209e6</br>\n",
    "&nbsp;&nbsp;&nbsp;&nbsp;Author: Scott Chacon schacon@gee-mail.com</br>\n",
    "&nbsp;&nbsp;&nbsp;&nbsp;Date: Sat Mar 15 10:31:28 2008 -0700</br>\n",
    "&nbsp;&nbsp;&nbsp;&nbsp;&nbsp;&nbsp;&nbsp;&nbsp;first commit</br>\n",
    "</p>"
   ]
  },
  {
   "cell_type": "markdown",
   "id": "e05ef610-18bc-412b-996c-8f0fc535385b",
   "metadata": {
    "editable": true,
    "slideshow": {
     "slide_type": "subslide"
    },
    "tags": []
   },
   "source": [
    "#### Formattages (1/X)\n",
    "----------------\n",
    "\n",
    "> $ git log -p -2\n",
    "\n",
    "*Sortie:*\n",
    "```sh\n",
    "commit ca82a6dff817ec66f44342007202690a93763949\n",
    "Author: Scott Chacon <schacon@gee-mail.com>\n",
    "Date: Mon Mar 17 21:52:11 2008 -0700\n",
    "changed the version number\n",
    "diff --git a/Rakefile b/Rakefile\n",
    "index a874b73..8f94139 100644\n",
    "--- a/Rakefile\n",
    "+++ b/Rakefile\n",
    "@@ -5,7 +5,7 @@ require 'rake/gempackagetask'\n",
    "spec = Gem::Specification.new do |s|\n",
    "s.platform = Gem::Platform::RUBY\n",
    "s.name = \"simplegit\"\n",
    "- s.version = \"0.1.0\"\n",
    "+ s.version = \"0.1.1\"\n",
    "s.author = \"Scott Chacon\"\n",
    "s.email = \"schacon@gee-mail.com\"\n",
    "s.summary = \"A simple gem for using Git in Ruby code.\"\n",
    "commit 085bb3bcb608e1e8451d4b2432f8ecbe6306e7e7\n",
    "Author: Scott Chacon <schacon@gee-mail.com>\n",
    "Date: Sat Mar 15 16:40:33 2008 -0700\n",
    "removed unnecessary test\n",
    "diff --git a/lib/simplegit.rb b/lib/simplegit.rb\n",
    "index a0a60ae..47c6340 100644\n",
    "--- a/lib/simplegit.rb\n",
    "+++ b/lib/simplegit.rb\n",
    "@@ -18,8 +18,3 @@ class SimpleGit\n",
    "end\n",
    "end\n",
    "-\n",
    "-if $0 == __FILE__\n",
    "- git = SimpleGit.new\n",
    "- puts git.show\n",
    "-end\n",
    "\\ No newline at end of file\n",
    "```"
   ]
  },
  {
   "cell_type": "markdown",
   "id": "0ca89ca1-6a5c-46f2-886c-92885f4147ac",
   "metadata": {
    "editable": true,
    "slideshow": {
     "slide_type": "subslide"
    },
    "tags": []
   },
   "source": [
    "#### Formattages (2/X)\n",
    "----------------\n",
    "\n",
    "> $ git log --stat\n",
    "\n",
    "*Sortie:*\n",
    "```sh\n",
    "commit ca82a6dff817ec66f44342007202690a93763949\n",
    "Author: Scott Chacon <schacon@gee-mail.com>\n",
    "Date: Mon Mar 17 21:52:11 2008 -0700\n",
    "changed the version number\n",
    "Rakefile | 2 +-\n",
    "1 file changed, 1 insertion(+), 1 deletion(-)\n",
    "commit 085bb3bcb608e1e8451d4b2432f8ecbe6306e7e7\n",
    "Author: Scott Chacon <schacon@gee-mail.com>\n",
    "Date: Sat Mar 15 16:40:33 2008 -0700\n",
    "removed unnecessary test\n",
    "lib/simplegit.rb | 5 -----\n",
    "1 file changed, 5 deletions(-)\n",
    "commit a11bef06a3f659402fe7563abf99ad00de2209e6\n",
    "Author: Scott Chacon <schacon@gee-mail.com>\n",
    "Date: Sat Mar 15 10:31:28 2008 -0700\n",
    "first commit\n",
    "README | 6 ++++++\n",
    "Rakefile | 23 +++++++++++++++++++++++\n",
    "lib/simplegit.rb | 25 +++++++++++++++++++++++++\n",
    "3 files changed, 54 insertions(+\n",
    "```"
   ]
  },
  {
   "cell_type": "markdown",
   "id": "d28211ff-ec86-4d1c-be24-ea0dc6cab948",
   "metadata": {
    "editable": true,
    "slideshow": {
     "slide_type": "subslide"
    },
    "tags": []
   },
   "source": [
    "#### Formattages (3/X)\n",
    "----------------\n",
    "\n",
    "> $ git log --pretty=oneline\n",
    "\n",
    "*Sortie:*\n",
    "```sh\n",
    "ca82a6dff817ec66f44342007202690a93763949 changed the version number\n",
    "085bb3bcb608e1e8451d4b2432f8ecbe6306e7e7 removed unnecessary test\n",
    "a11bef06a3f659402fe7563abf99ad00de2209e6 first commit\n",
    "```"
   ]
  },
  {
   "cell_type": "markdown",
   "id": "ea637f9a-8440-4e67-92d1-de8892d029c4",
   "metadata": {
    "editable": true,
    "slideshow": {
     "slide_type": "subslide"
    },
    "tags": []
   },
   "source": [
    "#### Formattages (4/X)\n",
    "----------------\n",
    "\n",
    "> $ git log --pretty=format:\"%h - %an, %ar : %s\"\n",
    "\n",
    "*Sortie:*\n",
    "```sh\n",
    "ca82a6d - Scott Chacon, 6 years ago : changed the version number\n",
    "085bb3b - Scott Chacon, 6 years ago : removed unnecessary test\n",
    "a11bef0 - Scott Chacon, 6 years ago : first commit\n",
    "```"
   ]
  },
  {
   "cell_type": "markdown",
   "id": "5bb00b1c-837c-4057-a73f-e949fdc31e64",
   "metadata": {
    "editable": true,
    "slideshow": {
     "slide_type": "subslide"
    },
    "tags": []
   },
   "source": [
    "| Option | Description du formatage |\n",
    "|------|------|\n",
    "|%H |Somme de contrôle du commit|\n",
    "|%h |Somme de contrôle abrégée du commit|\n",
    "|%T |Somme de contrôle de l’arborescence|\n",
    "|%t |Somme de contrôle abrégée de l’arborescence|\n",
    "|%P |Sommes de contrôle des parents|\n",
    "|%p |Sommes de contrôle abrégées des parents|\n",
    "|%an | Nom de l’auteur|\n",
    "|%ae |E-mail de l’auteur|\n",
    "|%ad |Date de l’auteur |\n",
    "|%ar |Date relative de l’auteur|\n",
    "|%cn |Nom du validateur|\n",
    "|%ce |E-mail du validateur|\n",
    "|%cd |Date du validateur|\n",
    "|%cr |Date relative du validateur|\n",
    "|%s |Sujet du commit|\n",
    "\n",
    "*source:* [Git log : Rechercher, naviguer et modifier l'historique](https://buzut.net/cours/versioning-avec-git/historique)"
   ]
  },
  {
   "cell_type": "markdown",
   "id": "6fe437b7-b438-46ac-b350-2bfa0cf0336d",
   "metadata": {
    "editable": true,
    "slideshow": {
     "slide_type": "subslide"
    },
    "tags": []
   },
   "source": [
    "#### Formattages (5/X)\n",
    "----------------\n",
    "\n",
    "> $ git log --pretty=format:\"%h %s\" --graph\n",
    "\n",
    "*Sortie:*\n",
    "```sh\n",
    "* 2d3acf9 ignore errors from SIGCHLD on trap\n",
    "* 5e3ee11 Merge branch 'master' of git://github.com/dustin/grit\n",
    "|\\\n",
    "| * 420eac9 Added a method for getting the current branch.\n",
    "* | 30e367c timeout code and tests\n",
    "* | 5a09431 add timeout protection to grit\n",
    "* | e1193f8 support for heads with slashes in them\n",
    "|/\n",
    "* d6016bc require time for xmlschema\n",
    "* 11d191e Merge branch 'defunkt' into local\n",
    "```"
   ]
  },
  {
   "cell_type": "markdown",
   "id": "71908601-2a26-494c-8659-4db22b24a901",
   "metadata": {
    "editable": true,
    "slideshow": {
     "slide_type": "subslide"
    },
    "tags": []
   },
   "source": [
    "#### Filtres (1/X)\n",
    "----------------\n",
    "\n",
    "```git log --since=2.weeks```"
   ]
  },
  {
   "cell_type": "markdown",
   "id": "473d252c-5d3c-498e-84be-deeaf97846ba",
   "metadata": {
    "editable": true,
    "slideshow": {
     "slide_type": "fragment"
    },
    "tags": []
   },
   "source": [
    "```git log -S do_some_things```"
   ]
  },
  {
   "cell_type": "markdown",
   "id": "2bc39881-019a-490c-bdd7-ae67b83b9bc0",
   "metadata": {
    "editable": true,
    "slideshow": {
     "slide_type": "fragment"
    },
    "tags": []
   },
   "source": [
    "```git log -- chemin/vers/le/fichier```"
   ]
  },
  {
   "cell_type": "markdown",
   "id": "94c6a89d-22ac-446f-84a2-7177617c5e2b",
   "metadata": {
    "editable": true,
    "slideshow": {
     "slide_type": "subslide"
    },
    "tags": []
   },
   "source": [
    "#### Filtres (2/X)\n",
    "----------------\n",
    "\n",
    "| Option | Description du filtre |\n",
    "|------|------|\n",
    "|-(n) N’affiche que les n derniers commits|\n",
    "|--since, --after Limite l’affichage aux commits réalisés après la date spécifiée|\n",
    "|--until, --before Limite l’affichage aux commits réalisés avant la date spécifiée|\n",
    "|--author Ne montre que les commits dont le champ auteur correspond à la chaîne passée en argument|\n",
    "|--committer Ne montre que les commits dont le champ validateur correspond\n",
    "à la chaîne passée en argument|\n",
    "|--grep Ne montre que les commits dont le message de validation\n",
    "contient la chaîne de caractères|\n",
    "|-S Ne montre que les commits dont les ajouts ou retraits contient la\n",
    "chaîne de caractères|\n",
    "\n",
    "*source:* [Git log : Rechercher, naviguer et modifier l'historique](https://buzut.net/cours/versioning-avec-git/historique)"
   ]
  },
  {
   "cell_type": "markdown",
   "id": "50c148c3-cb2a-4c00-a915-be096001b894",
   "metadata": {
    "editable": true,
    "slideshow": {
     "slide_type": "subslide"
    },
    "tags": []
   },
   "source": [
    "#### Filtres (2/X)\n",
    "----------------\n",
    "\n",
    "> $ git log --pretty=\"%h - %s\" --author='Junio C Hamano' --since=\"2008-10-01\" \\\n",
    "--before=\"2008-11-01\" --no-merges -- repository/\n",
    "\n",
    "*Sortie:*\n",
    "```sh\n",
    "5610e3b - Fix testcase failure when extended attributes are in use\n",
    "acd3b9e - Enhance hold_lock_file_for_{update,append}() API\n",
    "f563754 - demonstrate breakage of detached checkout with symbolic link HEAD\n",
    "d1a43f2 - reset --hard/read-tree --reset -u: remove unmerged new paths\n",
    "51a94af - Fix \"checkout --track -b newbranch\" on detached HEAD\n",
    "b0ad11e - pull: allow \"git pull origin $something:$current_branch\" into an unborn\n",
    "branch\n",
    "```"
   ]
  },
  {
   "cell_type": "markdown",
   "id": "cc1d5d79-fe5e-4811-a745-350455bbab0a",
   "metadata": {
    "editable": true,
    "slideshow": {
     "slide_type": "slide"
    },
    "tags": []
   },
   "source": [
    "\n",
    "<div style=\"display:flex\">\n",
    "    <img style=\"border: 3px solid #08182F; border-radius: 50px; margin: auto\" width=500px height=500px src=\"pictures/thanks.png\" alt=\"Merci de votre attention\">\n",
    "</div>\n",
    "\n",
    "\n",
    "\n"
   ]
  },
  {
   "cell_type": "markdown",
   "id": "04429a2d-5e34-4854-8469-62ea8e4c6f18",
   "metadata": {
    "editable": true,
    "slideshow": {
     "slide_type": "fragment"
    },
    "tags": []
   },
   "source": [
    "> Avez vous des question ?"
   ]
  }
 ],
 "metadata": {
  "celltoolbar": "Diaporama",
  "kernelspec": {
   "display_name": "Python 3 (ipykernel)",
   "language": "python",
   "name": "python3"
  },
  "language_info": {
   "codemirror_mode": {
    "name": "ipython",
    "version": 3
   },
   "file_extension": ".py",
   "mimetype": "text/x-python",
   "name": "python",
   "nbconvert_exporter": "python",
   "pygments_lexer": "ipython3",
   "version": "3.13.7"
  },
  "toc": {
   "base_numbering": 1
  }
 },
 "nbformat": 4,
 "nbformat_minor": 5
}
