{
 "cells": [
  {
   "cell_type": "markdown",
   "id": "e50aff96-6459-4b8f-8b79-4b66eccf03a4",
   "metadata": {
    "editable": true,
    "slideshow": {
     "slide_type": "slide"
    },
    "tags": []
   },
   "source": [
    "# Git Presentation"
   ]
  },
  {
   "cell_type": "markdown",
   "id": "b69a7f36-48e1-47f9-b86b-6131e2d96f4d",
   "metadata": {
    "editable": true,
    "slideshow": {
     "slide_type": "slide"
    },
    "tags": []
   },
   "source": [
    "## Sommaire\n",
    "\n",
    "\n",
    "  1) Test\n",
    "  2) Testbis\n",
    "  3) on verra"
   ]
  },
  {
   "cell_type": "markdown",
   "id": "5a3ea240-20ad-4f4d-939c-a0e7aeeae1c3",
   "metadata": {
    "editable": true,
    "slideshow": {
     "slide_type": "slide"
    },
    "tags": []
   },
   "source": [
    "## Introduction"
   ]
  },
  {
   "cell_type": "markdown",
   "id": "c820b688-7bd3-4a93-b174-9bed4cc0a493",
   "metadata": {
    "editable": true,
    "slideshow": {
     "slide_type": ""
    },
    "tags": []
   },
   "source": [
    "<span style='text-align:justified; color: red;'>Un gestionnaire de\n",
    "version est un système qui enregistre l’évolution d’un fichier ou d’un ensemble de fichiers au cours\n",
    "du temps de manière à ce qu’on puisse rappeler une version antérieure d’un fichier à tout moment. </span>"
   ]
  },
  {
   "cell_type": "markdown",
   "id": "94314bc6-82e0-4fbd-a8a5-038896d8ebb2",
   "metadata": {
    "editable": true,
    "slideshow": {
     "slide_type": "subslide"
    },
    "tags": []
   },
   "source": [
    "<img src=\"../pictures/introduction.png\" alt=\"Image d'introduction\">"
   ]
  },
  {
   "cell_type": "markdown",
   "id": "98d8f433-82e7-4868-92de-b5b613c92636",
   "metadata": {
    "editable": true,
    "slideshow": {
     "slide_type": "subslide"
    },
    "tags": []
   },
   "source": [
    "### Les systèmes de gestion de version locaux (1/X)\n",
    "---------------------------------------------"
   ]
  },
  {
   "cell_type": "markdown",
   "id": "6c3d477a-8f28-475a-afd5-9fe7875dad0c",
   "metadata": {
    "editable": true,
    "slideshow": {
     "slide_type": "fragment"
    },
    "tags": []
   },
   "source": [
    "<div class=\"row\" style=\"display:flex;justify-content: center; border: 3px solid #08182F; border-radius: 50px;margin-left: 10px; margin-right:10px\">\n",
    "  <div class=\"column\" style=\"margin-left:30px\">\n",
    "    <img width=500px height=400px src=\"../pictures/version-ppt.png\" alt=\"Image gestion de version locale1\">\n",
    "  </div>\n",
    "  <div class=\"column\"  style=\"margin-left:70px\">\n",
    "    <img width=500px height=400px src=\"../pictures/local-computer.png\" alt=\"Image gestion de version locale2\">\n",
    "  </div>\n",
    "</div> "
   ]
  },
  {
   "cell_type": "markdown",
   "id": "1a718cd2-3b57-4487-a772-3fda13dc5cc3",
   "metadata": {
    "editable": true,
    "slideshow": {
     "slide_type": "subslide"
    },
    "tags": []
   },
   "source": [
    "### Les systèmes de gestion de version locaux (2/X)\n",
    "---------------------------------------------\n",
    "Un des systèmes les plus populaires était [RCS](https://www.gnu.org/software/rcs/), qui est encore distribué avec de nombreux systèmes\n",
    "d’exploitation aujourd’hui.\n",
    "\n",
    "Cet outil fonctionne en conservant des ensembles de patchs\n",
    "```diff\n",
    "diff --git a/foo.c b/foo.c\n",
    "index 30cfd169..8de130c2 100644\n",
    "--- a/foo.c\n",
    "+++ b/foo.c\n",
    "@@ -1,5 +1,5 @@\n",
    " #include <string.h>\n",
    "\n",
    " int check (char *string) {\n",
    "-    return !strcmp(string, \"ok\");\n",
    "+    return (string != NULL) && !strcmp(string, \"ok\");\n",
    "}\n",
    "```\n",
    "Un patch est une representation compacte de différences entres deux fichiers. Cela décrit comment effectuer une tranformation afin de passer d'un fichier à un autre.\n"
   ]
  },
  {
   "cell_type": "markdown",
   "id": "639ac4b6-c887-4cd8-8814-241621f8e825",
   "metadata": {
    "editable": true,
    "slideshow": {
     "slide_type": "fragment"
    },
    "tags": []
   },
   "source": [
    "- _diff --git a/foo.c b/foo.c_ represente les changements entre l'index et la version dans l'arbre de travail."
   ]
  },
  {
   "cell_type": "markdown",
   "id": "5c9295e5-7a02-4fca-967b-692cbf2bbb5f",
   "metadata": {
    "editable": true,
    "slideshow": {
     "slide_type": "fragment"
    },
    "tags": []
   },
   "source": [
    "- `index 30cfd169..8de130c2 100644` represente le header. Dans notre contexte cela montre plus de détails sur notemment d'où proviennent les deux \"version\" de ce même fichier ainsi que son type (fichier dit régulier, executable ou non, lien symbolique...)"
   ]
  },
  {
   "cell_type": "markdown",
   "id": "2797ea6e-5a7f-4cbc-95bb-dc81bc457b69",
   "metadata": {
    "editable": true,
    "slideshow": {
     "slide_type": "subslide"
    },
    "tags": []
   },
   "source": [
    "### Les systèmes de gestion de version locaux (3/X)\n",
    "---------------------------------------------\n",
    "\n",
    "<ul style=\"list-style: none;\"> \n",
    "    <li><span style=\"color: green\">+ On il peut restituer l’état de n’importe quel fichier à n’importe quel instant en ajoutant toutes les\n",
    "différences patch nécéssaires.</span></li>   \n",
    "    <li><span style=\"color: red\">- Cela ne permet pas de gérer plusieurs utilisateurs sur plusieurs machines</span></li>\n",
    "    <li><span style=\"color: red\">- Dépendance totale sur le server local (panne, corruption du disque dur, ...)</span></li>\n",
    "</ul>"
   ]
  },
  {
   "cell_type": "markdown",
   "id": "452388e0-7f05-47fc-bd0f-478fec47bc0f",
   "metadata": {
    "editable": true,
    "jp-MarkdownHeadingCollapsed": true,
    "slideshow": {
     "slide_type": "subslide"
    },
    "tags": []
   },
   "source": [
    "### Les systèmes de gestion de version centralisés (1/X)\n",
    "--------------------------------------------------\n",
    "\n",
    "Les systèmes de gestion de version\n",
    "centralisés mettent en place un serveur central qui contient\n",
    "tous les fichiers sous gestion de version, et des clients qui peuvent extraire les fichiers de ce dépôt\n",
    "central.\n",
    "<div style=\"display:flex;justify-content: center;\">\n",
    "    <img align=\"center\" style=\"border: 3px solid #08182F; border-radius: 50px;margin-left: 10px; margin-right:10px\" width=\"500px\" height=\"500px\" src=\"../pictures/CVCS-server.png\" alt=\"CVCS server\">\n",
    "</div>\n",
    "\n"
   ]
  },
  {
   "cell_type": "markdown",
   "id": "31d990fe-73a7-496a-818e-6077aaba6e96",
   "metadata": {
    "editable": true,
    "slideshow": {
     "slide_type": "subslide"
    },
    "tags": []
   },
   "source": [
    "### Les systèmes de gestion de version distribués (2/X)\n",
    "--------------------------------------------------\n",
    "\n",
    "<ul style=\"list-style: none;\"> \n",
    "    <li><span style=\"color: green\">+ On il peut restituer l’état de n’importe quel fichier à n’importe quel instant.</span></li>   \n",
    "    <li><span style=\"color: green\">+ Cela permet de gérer plusieurs utilisateurs sur plusieurs machines</span></li>\n",
    "    <li><span style=\"color: green\">+ Possibilités d'administration de la base de donnée</span></li>\n",
    "    <li><span style=\"color: red\">- Dépendance totale sur le server distant (panne, lenteur, corruption du disque dur, accès concurrents, ...)</span></li>\n",
    "</ul>"
   ]
  },
  {
   "cell_type": "markdown",
   "id": "f9d52b08-4076-45db-85b7-7413df9b48da",
   "metadata": {
    "editable": true,
    "slideshow": {
     "slide_type": "subslide"
    },
    "tags": []
   },
   "source": [
    "### Les systèmes de gestion de version centralisés (1/X)\n",
    "--------------------------------------------------\n",
    "\n",
    "Les clients n’extraient plus seulement la dernière version d’un fichier, mais ils dupliquent\n",
    "complètement le dépôt.\n",
    "<div style=\"display:flex;justify-content: center;\">\n",
    "    <img align=\"center\" style=\"border: 3px solid #08182F; border-radius: 50px;margin-left: 10px; margin-right:10px\" width=\"500px\" height=\"500px\" src=\"../pictures/DVCS-server.png\" alt=\"DVCS server\">\n",
    "</div>"
   ]
  },
  {
   "cell_type": "markdown",
   "id": "b65f3cdf-0b72-4232-918d-93de2045d5f9",
   "metadata": {
    "editable": true,
    "slideshow": {
     "slide_type": "subslide"
    },
    "tags": []
   },
   "source": [
    "### Les systèmes de gestion de version centralisés (2/X)\n",
    "--------------------------------------------------\n",
    "\n",
    "<ul style=\"list-style: none;\"> \n",
    "    <li><span style=\"color: green\">+ On il peut restituer l’état de n’importe quel fichier à n’importe quel instant.</span></li>   \n",
    "    <li><span style=\"color: green\">+ Cela permet de gérer plusieurs utilisateurs sur plusieurs machines</span></li>\n",
    "    <li><span style=\"color: green\">+ Possibilités d'administration de la base de donnée</span></li>\n",
    "    <li><span style=\"color: red\">+ Résilience totale sur le server distant, en cas de problème, chaque machine locale possède un \"déplicat\" de ce dépot </span></li>\n",
    "</ul>"
   ]
  },
  {
   "cell_type": "markdown",
   "id": "00464b95-3472-4ffc-8d97-c7209c2697a1",
   "metadata": {
    "editable": true,
    "slideshow": {
     "slide_type": "subslide"
    },
    "tags": []
   },
   "source": [
    "### Les systèmes de gestion de version centralisés (3/X)\n",
    "--------------------------------------------------\n",
    "\n",
    "Le noyau Linux est un projet libre de grande envergure. Pour la plus grande partie de sa vie\n",
    "(1991–2002), les modifications étaient transmises sous forme de patchs et d’archives de fichiers. En\n",
    "2002, le projet du noyau Linux commença à utiliser un DVCS propriétaire appelé BitKeeper."
   ]
  },
  {
   "cell_type": "markdown",
   "id": "53d55bf9-89ff-4098-ae8a-36a20e762419",
   "metadata": {
    "editable": true,
    "slideshow": {
     "slide_type": "fragment"
    },
    "tags": []
   },
   "source": [
    "<ul style=\"list-style: none;\"> \n",
    "    <li><span><b>Simple</b>: An easy to use command line interface. </span></li>   \n",
    "    <li><span><b>Scalable</b>: Nested Repositories are submodules done right! Version control collections of repositories.</span></li>\n",
    "    <li><span><b>Accurate</b>: Tracking of file operations like creates, deletes, and renames.</span></li>\n",
    "    <li><span><b>Safe</b>: All file accesses validate checksums for integrity. All file writes include redundancy for error correction.</span></li>\n",
    "    <li><span><b>Dependable</b>: Highly accurate auto-merge that uses the whole history to resolve conflicts. Most other systems use variations of diff3.</span></li>\n",
    "    <li><span><b>Fast</b>: High performance and scales to very large repositories.</span></li>\n",
    "    <li><span><b>Free</b>: Licensed under the Apache Version 2 license </span></li>\n",
    "</ul>"
   ]
  },
  {
   "cell_type": "markdown",
   "id": "265503bd-fc48-4076-b6ee-a3df01a2cc08",
   "metadata": {
    "editable": true,
    "slideshow": {
     "slide_type": "subslide"
    },
    "tags": []
   },
   "source": [
    "### Les systèmes de gestion de version centralisés (4/X)\n",
    "--------------------------------------------------\n",
    "\n",
    "<div style=\"display:flex;justify-content: center;\">\n",
    "    <img align=\"center\" style=\"border: 3px solid #08182F; border-radius: 50px;margin-left: 10px; margin-right:10px\" width=\"500px\" height=\"500px\" src=\"../pictures/bitkeeper.png\" alt=\"bitkeeper\">\n",
    "</div>"
   ]
  },
  {
   "cell_type": "markdown",
   "id": "0f2e9483-c2a7-4207-a054-6229719a6082",
   "metadata": {
    "editable": true,
    "slideshow": {
     "slide_type": "fragment"
    },
    "tags": []
   },
   "source": [
    "> Où arrive git dans tout cela ?"
   ]
  },
  {
   "cell_type": "markdown",
   "id": "04b9d230-6625-40e9-a37f-342ce1c3196f",
   "metadata": {
    "editable": true,
    "slideshow": {
     "slide_type": "subslide"
    },
    "tags": []
   },
   "source": [
    "### Les systèmes de gestion de version centralisés (5/X)\n",
    "--------------------------------------------------\n",
    "\n",
    "\n",
    "En 2005, les relations entre la communauté développant le noyau Linux et la société en charge du\n",
    "développement de BitKeeper furent rompues, et le statut de gratuité de l’outil fut révoqué.\n",
    "\n",
    "Cela poussa la communauté du développement de Linux (et plus particulièrement Linus Torvalds, le\n",
    "créateur de Linux) à développer son propre outil en se basant sur les leçons apprises lors de\n",
    "l’utilisation de BitKeeper:\n",
    "<ul style=\"list-style: none;\"> \n",
    "    <li><span>vitesse</span></li>   \n",
    "    <li><span>conception simple</span></li>\n",
    "    <li><span>support pour les développements non linéaires</li>\n",
    "    <li><span>capacité à gérer efficacement des projets d’envergure tels que le noyau Linux</span></li>\n",
    "</ul>"
   ]
  },
  {
   "cell_type": "markdown",
   "id": "b8e1ac7a-3ca7-4405-9927-6f1c7dfe99bd",
   "metadata": {
    "editable": true,
    "slideshow": {
     "slide_type": ""
    },
    "tags": []
   },
   "source": [
    "## Pour aller plus loin"
   ]
  },
  {
   "cell_type": "markdown",
   "id": "86cef060-9a4d-4a8d-b5a6-e8a017f2d724",
   "metadata": {
    "editable": true,
    "slideshow": {
     "slide_type": "fragment"
    },
    "tags": []
   },
   "source": [
    "  1) git switch vs git checkout\n",
    "  2) git bisect\n",
    "  3) git log"
   ]
  },
  {
   "cell_type": "markdown",
   "id": "d8575874-724e-4d70-97a2-ed56f5c46d2f",
   "metadata": {
    "editable": true,
    "raw_mimetype": "",
    "slideshow": {
     "slide_type": ""
    },
    "tags": []
   },
   "source": [
    "### Switch et Checkout"
   ]
  },
  {
   "cell_type": "markdown",
   "id": "a96d91b3-266d-475f-ba17-6c411d93e89c",
   "metadata": {
    "editable": true,
    "slideshow": {
     "slide_type": "subslide"
    },
    "tags": []
   },
   "source": [
    ">     Git switch and git checkout are both used to change branches, but they have some differences in syntax and behavior. Git switch is a newer command that is more focused on branches, while git checkout is an older command that can do other things besides switching branches.\n",
    ">     Git checkout has a more versatile syntax than git switch, but it can also be more confusing and error-prone if you don’t understand its behavior.\n",
    "*Source*: [Git Switch vs. Checkout: What’s the Difference? (2023)](https://kodekloud.com/blog/git-switch-vs-checkout/)"
   ]
  },
  {
   "cell_type": "markdown",
   "id": "468dce56-c739-483f-8677-e7c28b4e52a8",
   "metadata": {
    "editable": true,
    "raw_mimetype": "",
    "slideshow": {
     "slide_type": ""
    },
    "tags": []
   },
   "source": [
    "> Two new commands \"git switch\" and \"git restore\" are introduced to\n",
    "   split \"checking out a branch to work on advancing its history\" and\n",
    "   \"checking out paths out of the index and/or a tree-ish to work on\n",
    "   advancing the current history\" out of the single \"git checkout\"\n",
    "   command.\n",
    "\n",
    "*source*: [release 2.23](https://github.com/git/git/blob/2d2a71ce85026edcc40f469678a1035df0dfcf57/Documentation/RelNotes/2.23.0.adoc?plain=1#L61-L65)"
   ]
  },
  {
   "cell_type": "markdown",
   "id": "a5e612b9-0d3b-403e-b89b-4104abe39e24",
   "metadata": {
    "editable": true,
    "slideshow": {
     "slide_type": "subslide"
    },
    "tags": []
   },
   "source": [
    "#### Si on regarde dans le code (1/X)\n",
    "-------------------------------------"
   ]
  },
  {
   "cell_type": "markdown",
   "id": "d0f182fd-f88a-44fe-be04-b5646b63e8b1",
   "metadata": {
    "editable": true,
    "slideshow": {
     "slide_type": "fragment"
    },
    "tags": []
   },
   "source": [
    "```c\n",
    "int cmd_main(int argc, const char **argv)\n",
    "{\n",
    "\tstruct strvec args = STRVEC_INIT;\n",
    "\tconst char *cmd;\n",
    "\tint done_help = 0;\n",
    "\n",
    "\tcmd = argv[0];\n",
    "\tif (!cmd)\n",
    "\t\tcmd = \"git-help\";\n",
    "\telse {\n",
    "\t\tconst char *slash = find_last_dir_sep(cmd);\n",
    "\t\tif (slash)\n",
    "\t\t\tcmd = slash + 1;\n",
    "\t}\n",
    "\n",
    "\t(...)\n",
    "\n",
    "\n",
    "\twhile (1) {\n",
    "\t\tint was_alias = run_argv(&args);\n",
    "\t\t(...)\n",
    "\t}\n",
    "\n",
    "\tfprintf(stderr, _(\"failed to run command '%s': %s\\n\"),\n",
    "\t\tcmd, strerror(errno));\n",
    "\tstrvec_clear(&args);\n",
    "\n",
    "\treturn 1;\n",
    "}\n",
    "```\n",
    "*source*: [git.c](https://github.com/git/git/blob/2d2a71ce85026edcc40f469678a1035df0dfcf57/git.c#L882)"
   ]
  },
  {
   "cell_type": "markdown",
   "id": "976aa18d-33a7-4bbc-99e6-e6acbccbf80f",
   "metadata": {
    "editable": true,
    "slideshow": {
     "slide_type": ""
    },
    "tags": []
   },
   "source": [
    "#### Si on regarde dans le code (2/X)\n",
    "-------------------------------------\n",
    "```c\n",
    "static struct cmd_struct *get_builtin(const char *s)\n",
    "{\n",
    "\tfor (size_t i = 0; i < ARRAY_SIZE(commands); i++) {\n",
    "\t\tstruct cmd_struct *p = commands + i;\n",
    "\t\tif (!strcmp(s, p->cmd))\n",
    "\t\t\treturn p;\n",
    "\t}\n",
    "\treturn NULL;\n",
    "}\n",
    "```\n",
    "*source*: [git.c](https://github.com/git/git/blob/2d2a71ce85026edcc40f469678a1035df0dfcf57/git.c#L653)"
   ]
  },
  {
   "cell_type": "markdown",
   "id": "d25765a9-ef62-4dd8-96b9-c9a4d6b4dd4b",
   "metadata": {
    "editable": true,
    "slideshow": {
     "slide_type": "fragment"
    },
    "tags": []
   },
   "source": [
    "```c\n",
    "static struct cmd_struct commands[] = { //l.503\n",
    "\t{ \"add\", cmd_add, RUN_SETUP | NEED_WORK_TREE },\n",
    "\t{ \"am\", cmd_am, RUN_SETUP | NEED_WORK_TREE },\n",
    "\t{ \"annotate\", cmd_annotate, RUN_SETUP },\n",
    "\t{ \"apply\", cmd_apply, RUN_SETUP_GENTLY },\n",
    "\t{ \"archive\", cmd_archive, RUN_SETUP_GENTLY },\n",
    "\t{ \"backfill\", cmd_backfill, RUN_SETUP },\n",
    "\t{ \"bisect\", cmd_bisect, RUN_SETUP },\n",
    "    (...)\n",
    "\t{ \"checkout\", cmd_checkout, RUN_SETUP | NEED_WORK_TREE }, //l.520\n",
    "    (...)\n",
    "    { \"switch\", cmd_switch, RUN_SETUP | NEED_WORK_TREE }, //l.632\n",
    "    (...)\n",
    "```"
   ]
  },
  {
   "cell_type": "markdown",
   "id": "2992df14-31aa-434a-9f38-e0c328819f39",
   "metadata": {
    "editable": true,
    "slideshow": {
     "slide_type": "subslide"
    },
    "tags": []
   },
   "source": [
    "#### Si on regarde dans le code (3/X)\n",
    "-------------------------------------\n",
    "\n",
    "```c\n",
    "int cmd_switch(int argc,\n",
    "\t       const char **argv,\n",
    "\t       const char *prefix,\n",
    "\t       struct repository *repo UNUSED)\n",
    "{\n",
    "\tstruct checkout_opts opts = CHECKOUT_OPTS_INIT; // same as checkout\n",
    "\tstruct option *options = NULL;\n",
    "\tstruct option switch_options[] = {\n",
    "\t\tOPT_STRING('c', \"create\", &opts.new_branch, N_(\"branch\"),\n",
    "\t\t\t   N_(\"create and switch to a new branch\")),\n",
    "\t\tOPT_STRING('C', \"force-create\", &opts.new_branch_force, N_(\"branch\"),\n",
    "\t\t\t   N_(\"create/reset and switch to a branch\")),\n",
    "\t\tOPT_BOOL(0, \"guess\", &opts.dwim_new_local_branch,\n",
    "\t\t\t N_(\"second guess 'git switch <no-such-branch>'\")),\n",
    "\t\tOPT_BOOL(0, \"discard-changes\", &opts.discard_changes,\n",
    "\t\t\t N_(\"throw away local modifications\")),\n",
    "\t\tOPT_END()\n",
    "\t};\n",
    "    (...)\n",
    "    opts.switch_branch_doing_nothing_is_ok = 0; // Ces deux paramètres ont leurs importances \n",
    "\topts.only_merge_on_switching_branches = 1;\n",
    "        \n",
    "\toptions = parse_options_dup(switch_options);\n",
    "\toptions = add_common_options(&opts, options);\n",
    "\toptions = add_common_switch_branch_options(&opts, options);\n",
    "\n",
    "\treturn checkout_main(argc, argv, prefix, &opts, options,  // Un appel a checkout_main\n",
    "\t\t\t     switch_branch_usage);\n",
    "}\n",
    "```"
   ]
  },
  {
   "cell_type": "markdown",
   "id": "341c5287-06fb-42f3-9f76-841e8ae35b0f",
   "metadata": {
    "editable": true,
    "slideshow": {
     "slide_type": "subslide"
    },
    "tags": []
   },
   "source": [
    "#### Si on regarde dans le code (3/X)\n",
    "-------------------------------------\n",
    "\n",
    "```c\n",
    "int cmd_checkout(int argc,\n",
    "\t\t const char **argv,\n",
    "\t\t const char *prefix,\n",
    "\t\t struct repository *repo UNUSED)\n",
    "{\n",
    "\tstruct checkout_opts opts = CHECKOUT_OPTS_INIT;\n",
    "\tstruct option *options;\n",
    "\tstruct option checkout_options[] = {\n",
    "\t\tOPT_STRING('b', NULL, &opts.new_branch, N_(\"branch\"),\n",
    "\t\t\t   N_(\"create and checkout a new branch\")),\n",
    "\t\tOPT_STRING('B', NULL, &opts.new_branch_force, N_(\"branch\"),\n",
    "\t\t\t   N_(\"create/reset and checkout a branch\")),\n",
    "\t\tOPT_BOOL('l', NULL, &opts.new_branch_log, N_(\"create reflog for new branch\")),\n",
    "\t\tOPT_BOOL(0, \"guess\", &opts.dwim_new_local_branch,\n",
    "\t\t\t N_(\"second guess 'git checkout <no-such-branch>' (default)\")),\n",
    "\t\tOPT_BOOL(0, \"overlay\", &opts.overlay_mode, N_(\"use overlay mode (default)\")),\n",
    "\t\tOPT_END()\n",
    "\t};\n",
    "    (...)\n",
    "    opts.switch_branch_doing_nothing_is_ok = 1; // Tiens tiens tiens...\n",
    "\topts.only_merge_on_switching_branches = 0;\n",
    "\n",
    "\tif (argc == 3 && !strcmp(argv[1], \"-b\")) { // Si l'utilisateur rentre [git] checkout -b <branchName>\n",
    "\t\t/*\n",
    "\t\t * User ran 'git checkout -b <branch>' and expects\n",
    "\t\t * the same behavior as 'git switch -c <branch>'.\n",
    "\t\t */\n",
    "\t\topts.switch_branch_doing_nothing_is_ok = 0;\n",
    "\t\topts.only_merge_on_switching_branches = 1;\n",
    "\t}\n",
    "\n",
    "\t(...) // On Parse les options\n",
    "\n",
    "\treturn checkout_main(argc, argv, prefix, &opts, options, // Toujours un appel a checkout_main\n",
    "\t\t\t     checkout_usage); -> On Appelle la même fonction en bas\n",
    "}\n",
    "```"
   ]
  },
  {
   "cell_type": "markdown",
   "id": "2c301e11-0b06-47d0-977f-57a53d87a7d7",
   "metadata": {
    "editable": true,
    "slideshow": {
     "slide_type": "subslide"
    },
    "tags": []
   },
   "source": [
    "#### Que faire avec ces deux commandes ?\n",
    "----------------------------------------\n",
    "\n",
    "- *Checkout*: Résoudre les conflits git (ours/theirs)\n",
    "- *Switch*: Opérations sur les branches : changement/création/suppression\n"
   ]
  }
 ],
 "metadata": {
  "celltoolbar": "Diaporama",
  "kernelspec": {
   "display_name": "Python 3 (ipykernel)",
   "language": "python",
   "name": "python3"
  },
  "language_info": {
   "codemirror_mode": {
    "name": "ipython",
    "version": 3
   },
   "file_extension": ".py",
   "mimetype": "text/x-python",
   "name": "python",
   "nbconvert_exporter": "python",
   "pygments_lexer": "ipython3",
   "version": "3.13.7"
  },
  "toc": {
   "base_numbering": 1
  }
 },
 "nbformat": 4,
 "nbformat_minor": 5
}
