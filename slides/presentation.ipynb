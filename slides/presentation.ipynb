{
 "cells": [
  {
   "cell_type": "markdown",
   "id": "e50aff96-6459-4b8f-8b79-4b66eccf03a4",
   "metadata": {
    "editable": true,
    "slideshow": {
     "slide_type": "slide"
    },
    "tags": []
   },
   "source": [
    "# Git Presentation"
   ]
  },
  {
   "cell_type": "markdown",
   "id": "b69a7f36-48e1-47f9-b86b-6131e2d96f4d",
   "metadata": {
    "editable": true,
    "slideshow": {
     "slide_type": "slide"
    },
    "tags": []
   },
   "source": [
    "## Sommaire\n",
    "\n",
    "\n",
    "  1) Test\n",
    "  2) Testbis\n",
    "  3) on verra"
   ]
  },
  {
   "cell_type": "markdown",
   "id": "5a3ea240-20ad-4f4d-939c-a0e7aeeae1c3",
   "metadata": {
    "editable": true,
    "slideshow": {
     "slide_type": "slide"
    },
    "tags": []
   },
   "source": [
    "## Introduction"
   ]
  },
  {
   "cell_type": "markdown",
   "id": "c820b688-7bd3-4a93-b174-9bed4cc0a493",
   "metadata": {
    "editable": true,
    "slideshow": {
     "slide_type": ""
    },
    "tags": []
   },
   "source": [
    "<span style='text-align:justified; color: red;'>Un gestionnaire de\n",
    "version est un système qui enregistre l’évolution d’un fichier ou d’un ensemble de fichiers au cours\n",
    "du temps de manière à ce qu’on puisse rappeler une version antérieure d’un fichier à tout moment. </span>"
   ]
  },
  {
   "cell_type": "markdown",
   "id": "94314bc6-82e0-4fbd-a8a5-038896d8ebb2",
   "metadata": {
    "editable": true,
    "slideshow": {
     "slide_type": "subslide"
    },
    "tags": []
   },
   "source": [
    "<img src=\"../pictures/introduction.png\" alt=\"Image d'introduction\">"
   ]
  },
  {
   "cell_type": "markdown",
   "id": "98d8f433-82e7-4868-92de-b5b613c92636",
   "metadata": {
    "editable": true,
    "slideshow": {
     "slide_type": "subslide"
    },
    "tags": []
   },
   "source": [
    "### Les systèmes de gestion de version locaux (1/X)\n",
    "---------------------------------------------"
   ]
  },
  {
   "cell_type": "markdown",
   "id": "6c3d477a-8f28-475a-afd5-9fe7875dad0c",
   "metadata": {
    "editable": true,
    "slideshow": {
     "slide_type": "fragment"
    },
    "tags": []
   },
   "source": [
    "<div class=\"row\" style=\"display:flex;justify-content: center; border: 3px solid #08182F; border-radius: 50px;margin-left: 10px; margin-right:10px\">\n",
    "  <div class=\"column\" style=\"margin-left:30px\">\n",
    "    <img width=500px height=400px src=\"../pictures/version-ppt.png\" alt=\"Image gestion de version locale1\">\n",
    "  </div>\n",
    "  <div class=\"column\"  style=\"margin-left:70px\">\n",
    "    <img width=500px height=400px src=\"../pictures/local-computer.png\" alt=\"Image gestion de version locale2\">\n",
    "  </div>\n",
    "</div> "
   ]
  },
  {
   "cell_type": "markdown",
   "id": "1a718cd2-3b57-4487-a772-3fda13dc5cc3",
   "metadata": {
    "editable": true,
    "slideshow": {
     "slide_type": "subslide"
    },
    "tags": []
   },
   "source": [
    "### Les systèmes de gestion de version locaux (1/X)\n",
    "---------------------------------------------\n",
    "Un des systèmes les plus populaires était [RCS](https://www.gnu.org/software/rcs/), qui est encore distribué avec de nombreux systèmes\n",
    "d’exploitation aujourd’hui.\n",
    "\n",
    "Cet outil fonctionne en conservant des ensembles de patchs\n",
    "```diff\n",
    "diff --git a/foo.c b/foo.c\n",
    "index 30cfd169..8de130c2 100644\n",
    "--- a/foo.c\n",
    "+++ b/foo.c\n",
    "@@ -1,5 +1,5 @@\n",
    " #include <string.h>\n",
    "\n",
    " int check (char *string) {\n",
    "-    return !strcmp(string, \"ok\");\n",
    "+    return (string != NULL) && !strcmp(string, \"ok\");\n",
    "}\n",
    "```\n",
    "Un patch est une representation compacte de différences entres deux fichiers. Cela décrit comment effectuer une tranformation afin de passer d'un fichier à un autre.\n"
   ]
  },
  {
   "cell_type": "markdown",
   "id": "639ac4b6-c887-4cd8-8814-241621f8e825",
   "metadata": {
    "editable": true,
    "slideshow": {
     "slide_type": "fragment"
    },
    "tags": []
   },
   "source": [
    "- _diff --git a/foo.c b/foo.c_ represente les changements entre l'index et la version dans l'arbre de travail."
   ]
  },
  {
   "cell_type": "markdown",
   "id": "5c9295e5-7a02-4fca-967b-692cbf2bbb5f",
   "metadata": {
    "editable": true,
    "slideshow": {
     "slide_type": "fragment"
    },
    "tags": []
   },
   "source": [
    "- `index 30cfd169..8de130c2 100644` represente le header. Dans notre contexte cela montre plus de détails sur notemment d'où proviennent les deux \"version\" de ce même fichier ainsi que son type (fichier dit régulier, executable ou non, lien symbolique...)"
   ]
  },
  {
   "cell_type": "markdown",
   "id": "2797ea6e-5a7f-4cbc-95bb-dc81bc457b69",
   "metadata": {
    "editable": true,
    "slideshow": {
     "slide_type": "subslide"
    },
    "tags": []
   },
   "source": [
    "### Les systèmes de gestion de version locaux (1/X)\n",
    "---------------------------------------------\n",
    "\n",
    "<ul style=\"list-style: none;\"> \n",
    "    <li><span style=\"color: green\">+ On il peut restituer l’état de n’importe quel fichier à n’importe quel instant en ajoutant toutes les\n",
    "différences patch nécéssaires.</span></li>   \n",
    "    <li><span style=\"color: red\">- Cela ne permet pas de gérer plusieurs utilisateurs sur plusieurs machines</span></li>    \n",
    "</ul>"
   ]
  },
  {
   "cell_type": "markdown",
   "id": "452388e0-7f05-47fc-bd0f-478fec47bc0f",
   "metadata": {
    "editable": true,
    "slideshow": {
     "slide_type": ""
    },
    "tags": []
   },
   "source": [
    "### Les systèmes de gestion de version centralisés (1/X)\n",
    "--------------------------------------------------\n",
    "\n",
    "Pour traiter ce problème, les systèmes de gestion de version\n",
    "centralisés (CVCS en anglais) furent développés. Ces\n",
    "systèmes mettent en place un serveur central qui contient\n",
    "tous les fichiers sous gestion de version, et des clients qui peuvent extraire les fichiers de ce dépôt\n",
    "central.\n",
    "<div style=\"display:flex;justify-content: center;\">\n",
    "    <img align=\"center\" style=\"border: 3px solid #08182F; border-radius: 50px;margin-left: 10px; margin-right:10px\" width=\"500px\" height=\"500px\" src=\"../pictures/vcs-server.png\" alt=\"VCS server\">\n",
    "</div>\n",
    "\n"
   ]
  }
 ],
 "metadata": {
  "celltoolbar": "Diaporama",
  "kernelspec": {
   "display_name": "Python 3 (ipykernel)",
   "language": "python",
   "name": "python3"
  },
  "language_info": {
   "codemirror_mode": {
    "name": "ipython",
    "version": 3
   },
   "file_extension": ".py",
   "mimetype": "text/x-python",
   "name": "python",
   "nbconvert_exporter": "python",
   "pygments_lexer": "ipython3",
   "version": "3.13.7"
  },
  "toc": {
   "base_numbering": 1
  }
 },
 "nbformat": 4,
 "nbformat_minor": 5
}
