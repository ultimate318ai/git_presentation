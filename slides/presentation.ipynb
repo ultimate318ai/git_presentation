{
 "cells": [
  {
   "cell_type": "markdown",
   "id": "e50aff96-6459-4b8f-8b79-4b66eccf03a4",
   "metadata": {
    "editable": true,
    "slideshow": {
     "slide_type": "slide"
    },
    "tags": []
   },
   "source": [
    "# Git Presentation"
   ]
  },
  {
   "cell_type": "markdown",
   "id": "b69a7f36-48e1-47f9-b86b-6131e2d96f4d",
   "metadata": {
    "editable": true,
    "slideshow": {
     "slide_type": "slide"
    },
    "tags": []
   },
   "source": [
    "## Sommaire\n",
    "\n",
    "\n",
    "  1) Test\n",
    "  2) Testbis\n",
    "  3) on verra"
   ]
  },
  {
   "cell_type": "markdown",
   "id": "5a3ea240-20ad-4f4d-939c-a0e7aeeae1c3",
   "metadata": {
    "editable": true,
    "slideshow": {
     "slide_type": "slide"
    },
    "tags": []
   },
   "source": [
    "## Introduction"
   ]
  },
  {
   "cell_type": "markdown",
   "id": "c820b688-7bd3-4a93-b174-9bed4cc0a493",
   "metadata": {
    "editable": true,
    "slideshow": {
     "slide_type": ""
    },
    "tags": []
   },
   "source": [
    "<span style='text-align:justified; color: red;'>Un gestionnaire de\n",
    "version est un système qui enregistre l’évolution d’un fichier ou d’un ensemble de fichiers au cours\n",
    "du temps de manière à ce qu’on puisse rappeler une version antérieure d’un fichier à tout moment. </span>"
   ]
  },
  {
   "cell_type": "markdown",
   "id": "94314bc6-82e0-4fbd-a8a5-038896d8ebb2",
   "metadata": {
    "editable": true,
    "slideshow": {
     "slide_type": "subslide"
    },
    "tags": []
   },
   "source": [
    "<img src=\"../pictures/introduction.png\" alt=\"Image d'introduction\">"
   ]
  },
  {
   "cell_type": "code",
   "execution_count": null,
   "id": "dabbe7ef-e389-41db-a831-a6a7ca4d7ab9",
   "metadata": {
    "editable": true,
    "slideshow": {
     "slide_type": ""
    },
    "tags": []
   },
   "outputs": [],
   "source": []
  }
 ],
 "metadata": {
  "celltoolbar": "Diaporama",
  "kernelspec": {
   "display_name": "Python 3 (ipykernel)",
   "language": "python",
   "name": "python3"
  },
  "language_info": {
   "codemirror_mode": {
    "name": "ipython",
    "version": 3
   },
   "file_extension": ".py",
   "mimetype": "text/x-python",
   "name": "python",
   "nbconvert_exporter": "python",
   "pygments_lexer": "ipython3",
   "version": "3.13.7"
  },
  "toc": {
   "base_numbering": 1
  }
 },
 "nbformat": 4,
 "nbformat_minor": 5
}
